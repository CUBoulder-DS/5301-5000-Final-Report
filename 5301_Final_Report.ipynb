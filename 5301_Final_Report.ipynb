{
  "cells": [
    {
      "cell_type": "markdown",
      "source": "# DTSC 5301 Final Report\n\n## Authors\n* Bhavana Jonnalagadda\n* Patrick Connelly\n* Grace Cooper\n* Carl Klein\n* Piya (Leo) Ngamkam\n* Dhairya Veera",
      "metadata": {
        "deepnote_app_coordinates": {
          "h": 5,
          "w": 12,
          "x": 0,
          "y": 0
        },
        "cell_id": "bcfbb9f087ba48c9a2d7f6ee83432ce9",
        "deepnote_cell_type": "markdown"
      },
      "block_group": "bcfbb9f087ba48c9a2d7f6ee83432ce9"
    },
    {
      "cell_type": "markdown",
      "source": "> IMPORTANT!! Whatever code block you add, please add a comment with your initials on top so we know who did it e.g. `## PC` or `## BJ`",
      "metadata": {
        "is_collapsed": false,
        "formattedRanges": [],
        "deepnote_app_coordinates": {
          "h": 2,
          "w": 8,
          "x": 0,
          "y": 0
        },
        "cell_id": "4f190e225f254b75b148335db3ed3b16",
        "deepnote_cell_type": "text-cell-callout"
      },
      "block_group": "4f190e225f254b75b148335db3ed3b16"
    },
    {
      "cell_type": "markdown",
      "source": "## Introduction",
      "metadata": {
        "deepnote_app_coordinates": {
          "h": 5,
          "w": 12,
          "x": 0,
          "y": 0
        },
        "cell_id": "33d10b3dcc864af0822c3c3f4014fd1e",
        "deepnote_cell_type": "markdown"
      },
      "block_group": "33d10b3dcc864af0822c3c3f4014fd1e"
    },
    {
      "cell_type": "markdown",
      "source": "Our group is performing a study on computer vision, focused on a comparison of facial recognition models, for the final project in STAT-5000.  Pursuant to the study, the team sought out multiple datasets on which we could evaluate the performance of two selected recognition models (Facebook's DeepFace and so-and-so's Fair Face mdoels )to generate performance data and perform statistical analysis on their ability to accurately identify race, age, and gender of a subject in a photograph.\n\nCollectively, we landed on the UTK dataset to perform our evaluation: https://susanqq.github.io/UTKFace/  [(1)](#r1)\n\nThe UTK dataset is divided into three parts (1,2, and 3).  The purpose of this project is to execute a preliminary overview of the UTK dataset and perform some rudimentary statistical thereon to determine whether we should evaluate our selected recognition models:\n\n* on a sample of the UTK dataset\n* on a specific \"chunk\" of the UTK dataset (i.e. part 1, part 2, or part 3)\n* a combination of chunks from the UTK dataset\n* the entirety of the UTK dataset\n\nThe outcome of this work is to select the best data combination from the UTK datset to simultaneously: \n* deliver a statistically sound analysis of the Fair Face and DeepFace recognition \n* reduce the amount of processing time and computational power required to generate data for the analysis\n",
      "metadata": {
        "deepnote_app_coordinates": {
          "h": 5,
          "w": 12,
          "x": 0,
          "y": 0
        },
        "cell_id": "e9ff6377b8494bc8b15d6200d0d6bba7",
        "deepnote_cell_type": "markdown"
      },
      "block_group": "4943e7f2954b46b7bca2bfd45bbc8124"
    },
    {
      "cell_type": "markdown",
      "source": "## Dataset Source and Description",
      "metadata": {
        "formattedRanges": [],
        "deepnote_app_coordinates": {
          "h": 5,
          "w": 12,
          "x": 0,
          "y": 0
        },
        "cell_id": "6a39e84f90ee4121a186879929fc0427",
        "deepnote_cell_type": "text-cell-h2"
      },
      "block_group": "b0438da537ba4bb79927a4076cbf11a1"
    },
    {
      "cell_type": "markdown",
      "source": "(Description / overview section)",
      "metadata": {
        "formattedRanges": [
          {
            "url": " https://susanqq.github.io/UTKFace/",
            "type": "link",
            "ranges": [],
            "toCodePoint": 32,
            "fromCodePoint": 32
          }
        ],
        "deepnote_app_coordinates": {
          "h": 2,
          "w": 8,
          "x": 0,
          "y": 0
        },
        "cell_id": "ef55b663a18d4e58990f0eb446dfb379",
        "deepnote_cell_type": "text-cell-p"
      },
      "block_group": "9e02577e74524390bc931b0003113824"
    },
    {
      "cell_type": "markdown",
      "source": "## Possible Sources of Bias",
      "metadata": {
        "formattedRanges": [],
        "deepnote_app_coordinates": {
          "h": 5,
          "w": 12,
          "x": 0,
          "y": 0
        },
        "cell_id": "33c821e1d2644a5c9e45b8d86d58aae3",
        "deepnote_cell_type": "text-cell-h2"
      },
      "block_group": "35632d412ca040eebfc884fdd88f2100"
    },
    {
      "cell_type": "markdown",
      "source": "- Accuracy of self-reported age, race, and gender for each submitted image",
      "metadata": {
        "formattedRanges": [],
        "deepnote_app_coordinates": {
          "h": 2,
          "w": 8,
          "x": 0,
          "y": 0
        },
        "cell_id": "08f249fb119b42a791b0f1aff03227fd",
        "deepnote_cell_type": "text-cell-bullet"
      },
      "block_group": "6f3b3d560b1549849feb9375e83162ec"
    },
    {
      "cell_type": "markdown",
      "source": "- Dataset excludes consideration of non-binary genders; submission may include mix subjects by birth-assigned gender and subjects by current gender identity. ",
      "metadata": {
        "formattedRanges": [],
        "deepnote_app_coordinates": {
          "h": 2,
          "w": 8,
          "x": 0,
          "y": 0
        },
        "cell_id": "db1cfed8292f45bca95fcef4126454d7",
        "deepnote_cell_type": "text-cell-bullet"
      },
      "block_group": "37cbf73fadd54b28968ab34c7dee67f7"
    },
    {
      "cell_type": "markdown",
      "source": "- Un-accounted for racial sub-diversity (i.e. \"Latino / Hispanic\" vs \"Central American\", \"South American\", \"Spanish\", \"Portuguese\")",
      "metadata": {
        "formattedRanges": [],
        "deepnote_app_coordinates": {
          "h": 2,
          "w": 8,
          "x": 0,
          "y": 0
        },
        "cell_id": "6ce1fced03814f44bee77c30ef273a97",
        "deepnote_cell_type": "text-cell-bullet"
      },
      "block_group": "5a46349cc42b45939e73ca10e703479d"
    },
    {
      "cell_type": "markdown",
      "source": "- Excludes subjects in population that are unwilling to submit or provide their age, race, gender, and photograph",
      "metadata": {
        "formattedRanges": [],
        "deepnote_app_coordinates": {
          "h": 2,
          "w": 8,
          "x": 0,
          "y": 0
        },
        "cell_id": "8e2d197b03b64e5ca1c2eaf748c08090",
        "deepnote_cell_type": "text-cell-bullet"
      },
      "block_group": "5ee629c066df416cb5ce65d336b24ca8"
    },
    {
      "cell_type": "markdown",
      "source": "## Data Aggregate Summaries",
      "metadata": {
        "formattedRanges": [],
        "deepnote_app_coordinates": {
          "h": 5,
          "w": 12,
          "x": 0,
          "y": 0
        },
        "cell_id": "83c12407d21240bfa23abf03703103d4",
        "deepnote_cell_type": "text-cell-h2"
      },
      "block_group": "787d2334031e44d8bc894782049a0b9e"
    },
    {
      "cell_type": "markdown",
      "source": "The below code is present for review, but commented out, as it was required to be executed on a local machine vs. pulling and generating directly from the source.  Each chunk of the UTK dataset ranges from X MB to 500+MB per chunk.  It would be computationally expensive for one seeking to reproduce our results to download the totality of these image files, and the UTK dataset itself did not provide a CSV containing the data of all subject images within it.  ",
      "metadata": {
        "formattedRanges": [],
        "deepnote_app_coordinates": {
          "h": 2,
          "w": 8,
          "x": 0,
          "y": 0
        },
        "cell_id": "8e611703e2134e05acef913d67b16018",
        "deepnote_cell_type": "text-cell-p"
      },
      "block_group": "b885900f04c0400796422673ee9a899c"
    },
    {
      "cell_type": "markdown",
      "source": "We downloaded and decompressed these chunks, and used the below code to iterate through the decompressed directories to get the names of every file.  Data about each image (specifically, the age, race, and gender of each subject) is encoded in the filename as follows:",
      "metadata": {
        "formattedRanges": [],
        "deepnote_app_coordinates": {
          "h": 2,
          "w": 8,
          "x": 0,
          "y": 0
        },
        "cell_id": "ba8fc58a052246b88d48a17cbace3d49",
        "deepnote_cell_type": "text-cell-p"
      },
      "block_group": "c95a19a15bb04701afd4f8dd7d530aae"
    },
    {
      "cell_type": "markdown",
      "source": "[age]_[gender]_[race]_[timestamp]",
      "metadata": {
        "formattedRanges": [],
        "deepnote_app_coordinates": {
          "h": 2,
          "w": 8,
          "x": 0,
          "y": 0
        },
        "cell_id": "40f071e769354b72b734f08445ee9df8",
        "deepnote_cell_type": "text-cell-p"
      },
      "block_group": "41beba34f285430e906638e095035309"
    },
    {
      "cell_type": "markdown",
      "source": "Where: ",
      "metadata": {
        "formattedRanges": [],
        "deepnote_app_coordinates": {
          "h": 2,
          "w": 8,
          "x": 0,
          "y": 0
        },
        "cell_id": "86bb05ed66244e318f8c82deb953ebac",
        "deepnote_cell_type": "text-cell-p"
      },
      "block_group": "2139b945bcc846d1a4dce2e0da8ec15f"
    },
    {
      "cell_type": "markdown",
      "source": "- age is an integer",
      "metadata": {
        "formattedRanges": [],
        "deepnote_app_coordinates": {
          "h": 2,
          "w": 8,
          "x": 0,
          "y": 0
        },
        "cell_id": "a4310955f09349ee9a5e6b991925f31d",
        "deepnote_cell_type": "text-cell-bullet"
      },
      "block_group": "eb7decf38cfc40f28a46f5d35bfa78ed"
    },
    {
      "cell_type": "markdown",
      "source": "- Gender is 0 for male and 1 for female",
      "metadata": {
        "formattedRanges": [],
        "deepnote_app_coordinates": {
          "h": 2,
          "w": 8,
          "x": 0,
          "y": 0
        },
        "cell_id": "6fdbd84d3cc342cfb36fc2edd57376af",
        "deepnote_cell_type": "text-cell-bullet"
      },
      "block_group": "c29a98997f9143f7bfe21113f2df95ab"
    },
    {
      "cell_type": "markdown",
      "source": "- Race: 0='', 1='', 2='', 3='', 4=''",
      "metadata": {
        "formattedRanges": [],
        "deepnote_app_coordinates": {
          "h": 2,
          "w": 8,
          "x": 0,
          "y": 0
        },
        "cell_id": "6568cc598be3436aa24142f5188157db",
        "deepnote_cell_type": "text-cell-bullet"
      },
      "block_group": "cc6e3e277cfa4c77a82e7a6015e7c464"
    },
    {
      "cell_type": "markdown",
      "source": "- Timestamp is in the format YYYYMMDDUTCtime",
      "metadata": {
        "formattedRanges": [],
        "deepnote_app_coordinates": {
          "h": 2,
          "w": 8,
          "x": 0,
          "y": 0
        },
        "cell_id": "13635b92e0a44690a0d979f5f3d7a448",
        "deepnote_cell_type": "text-cell-bullet"
      },
      "block_group": "da6bfc9815334b0dbd13f9159d3779b4"
    },
    {
      "cell_type": "markdown",
      "source": "Our team produced 3 CSVs (UTKpart1, UTKpart2, and UTKpart3.csv) on a local machine, using the below code:",
      "metadata": {
        "formattedRanges": [],
        "deepnote_app_coordinates": {
          "h": 2,
          "w": 8,
          "x": 0,
          "y": 0
        },
        "cell_id": "ff80d589076e4a4087fcacb561d6569a",
        "deepnote_cell_type": "text-cell-p"
      },
      "block_group": "e9d0dd6af9794779afc9d46857b088c0"
    },
    {
      "cell_type": "code",
      "source": "## PC\n\n# ##### get the raw file names and their standarized encoding to be human-readable \n# ##### and to generate CSVs for upload to our GitHub\n\n# import pandas as pd, numpy as np\n\n# def parse_to_readable(in_path,out_file):\n#     all_jpg = [file t\n#             for path, subdir, files in os.walk(in_path)\n#             for file in glob(os.path.join(path,'*.jpg'))]\n#     in_df = pd.DataFrame({'jpgs': all_jpg})\n#     in_df['file']=(in_df['jpgs'].str.split('\\\\')).str[-1]\n#     in_df=in_df.drop(labels=['jpgs'],axis=1)\n#     in_df[['src_age','src_gender','src_race','src_timestamp']] = in_df['file'].str.split(\"_\",expand=True)\n#     # specify conditions for integer value to text race\n#     race_int = [in_df['src_race']=='0',in_df['src_race']=='1',in_df['src_race']=='2',in_df['src_race']=='3',in_df['src_race']=='4']\n#     race_str = ['White','Black','Asian','Indian','Other']\n#     #specify conditions for integer value to text gender\n#     gen_int=[in_df['src_gender']=='0',in_df['src_gender']=='1']\n#     gen_str=['Male','Female']\n#     #add race and gender columns given specified conditions above \n#     in_df['src_race']=np.select(race_int,race_str)\n#     in_df['src_gender']=np.select(gen_int,gen_str)\n#     in_df['src_age'] = in_df['src_age'].str.split('/').str[-1]\n#     in_df['src_timestamp'] = in_df['src_timestamp'].str.split('.').str[0]\n#     in_df.to_csv(out_file)\n\n# parse_to_readable(\"C:\\\\Users\\\\[user]\\\\OneDrive\\\\Desktop\\\\AFAD-Full\\\\part1\",\"C:\\\\Users\\\\[user]\\\\OneDrive\\\\Desktop\\\\AFAD-Full\\\\part1.csv\")\n# parse_to_readable(\"C:\\\\Users\\\\[user]\\\\OneDrive\\\\Desktop\\\\AFAD-Full\\\\part2\",\"C:\\\\Users\\\\[user]\\\\OneDrive\\\\Desktop\\\\AFAD-Full\\\\part2.csv\")\n# parse_to_readable(\"C:\\\\Users\\\\[user]\\\\OneDrive\\\\Desktop\\\\AFAD-Full\\\\part3\",\"C:\\\\Users\\\\[user]\\\\OneDrive\\\\Desktop\\\\AFAD-Full\\\\part3.csv\")",
      "metadata": {
        "source_hash": null,
        "execution_start": 1694705852384,
        "execution_millis": 22,
        "deepnote_app_coordinates": {
          "h": 5,
          "w": 12,
          "x": 0,
          "y": 0
        },
        "deepnote_to_be_reexecuted": false,
        "cell_id": "5a511922846e4f9490da6d4d2f67783f",
        "deepnote_cell_type": "code"
      },
      "outputs": [
        {
          "output_type": "execute_result",
          "execution_count": 2,
          "data": {
            "text/plain": "'\\ndef parse_to_readable(in_path,out_file):\\n    all_jpg = [file \\n            for path, subdir, files in os.walk(in_path)\\n            for file in glob(os.path.join(path,\\'*.jpg\\'))]\\n    in_df = pd.DataFrame({\\'jpgs\\': all_jpg})\\n    in_df[\\'file\\']=(in_df[\\'jpgs\\'].str.split(\\'\\\\\\')).str[-1]\\n    in_df=in_df.drop(labels=[\\'jpgs\\'],axis=1)\\n    in_df[[\\'src_age\\',\\'src_gender\\',\\'src_race\\',\\'src_timestamp\\']] = in_df[\\'file\\'].str.split(\"_\",expand=True)\\n    race_int = [in_df[\\'src_race\\']==\\'0\\',in_df[\\'src_race\\']==\\'1\\',in_df[\\'src_race\\']==\\'2\\',in_df[\\'src_race\\']==\\'3\\',in_df[\\'src_race\\']==\\'4\\']\\n    race_str = [\\'White\\',\\'Black\\',\\'Asian\\',\\'Indian\\',\\'Other\\']\\n    gen_int=[in_df[\\'src_gender\\']==\\'0\\',in_df[\\'src_gender\\']==\\'1\\']\\n    gen_str=[\\'Male\\',\\'Female\\']\\n    in_df[\\'src_race\\']=np.select(race_int,race_str)\\n    in_df[\\'src_gender\\']=np.select(gen_int,gen_str)\\n    in_df[\\'src_age\\'] = in_df[\\'src_age\\'].str.split(\\'/\\').str[-1]\\n    in_df[\\'src_timestamp\\'] = in_df[\\'src_timestamp\\'].str.split(\\'.\\').str[0]\\n    in_df.to_csv(out_file)\\n\\nparse_to_readable(\"C:\\\\Users\\\\pconn\\\\OneDrive\\\\Desktop\\\\AFAD-Full\\\\part1\",\"C:\\\\Users\\\\pconn\\\\OneDrive\\\\Desktop\\\\AFAD-Full\\\\part1.csv\")\\nparse_to_readable(\"C:\\\\Users\\\\pconn\\\\OneDrive\\\\Desktop\\\\AFAD-Full\\\\part2\",\"C:\\\\Users\\\\pconn\\\\OneDrive\\\\Desktop\\\\AFAD-Full\\\\part2.csv\")\\nparse_to_readable(\"C:\\\\Users\\\\pconn\\\\OneDrive\\\\Desktop\\\\AFAD-Full\\\\part3\",\"C:\\\\Users\\\\pconn\\\\OneDrive\\\\Desktop\\\\AFAD-Full\\\\part3.csv\")'"
          },
          "metadata": {}
        }
      ],
      "execution_count": null,
      "block_group": "d98926d673034c52807aefde450cfe5e"
    },
    {
      "cell_type": "markdown",
      "source": "Generating these three CSVs and posting them to GitHub enabled our team to clean, format, and combine the data to generate summary statistics for the dataset",
      "metadata": {
        "formattedRanges": [],
        "deepnote_app_coordinates": {
          "h": 2,
          "w": 8,
          "x": 0,
          "y": 0
        },
        "cell_id": "8e510ac15d1a4cdf83d783cdab0dc647",
        "deepnote_cell_type": "text-cell-p"
      },
      "block_group": "5c2940637df64974b969fc8d857646a9"
    },
    {
      "cell_type": "markdown",
      "source": "NOTE: Our selected models for the STAT-5000 project have differing methods for predicting age.  Fair Face predicts age as a categorical variable in a specified range of ages (e.g. \"10-19\", \"20-29\", etc), whereas DeepFace predicts a specific numerical age.  To support our efforts in the STAT-5000 project, we append a column of src_age_grp to the source data to fit the information into the same groups as will be output by Fair Face.  We also intend to perform the same operation on the output of DeepFace age predictions, such that both models can be compared on a categorical variable back to the source data.",
      "metadata": {
        "formattedRanges": [],
        "deepnote_app_coordinates": {
          "h": 2,
          "w": 8,
          "x": 0,
          "y": 0
        },
        "cell_id": "f13a33ea2c9e4b888a933e574d874067",
        "deepnote_cell_type": "text-cell-p"
      },
      "block_group": "03e6628b6dad424d86d84a28bf9b0f77"
    },
    {
      "cell_type": "code",
      "source": "# Imports\nimport pandas as pd\nimport numpy as np\nimport plotly.express as px\nimport plotly.graph_objects as go\nimport plotly.io as pio\nfrom plotly.subplots import make_subplots\n\n# Settings for plot rendering, makes work with HTML output + jupyer lab + static output\n# pio.renderers.default = \"notebook+plotly_mimetype\"\n# PNG doesn't work unless kaleido package is installed, which has to be manually done through the terminal\npio.renderers.default = \"notebook+plotly_mimetype+png\"\n\n%matplotlib inline",
      "metadata": {
        "source_hash": "8d24c036",
        "execution_start": 1694809228688,
        "execution_millis": 8,
        "deepnote_app_coordinates": {
          "h": 5,
          "w": 12,
          "x": 0,
          "y": 0
        },
        "deepnote_to_be_reexecuted": false,
        "cell_id": "5e2e518410644e92a36e6151f549864d",
        "deepnote_cell_type": "code"
      },
      "outputs": [],
      "execution_count": 12,
      "block_group": "5e2e518410644e92a36e6151f549864d"
    },
    {
      "cell_type": "code",
      "source": "## PC\n\n#code to import the datasets from GitHub, and do some initial transformations and cleaning\n\n#importing the csvs for the UTK dataset from our GitHub\nchunk1_df = pd.read_csv(\"https://raw.githubusercontent.com/CUBoulder-DS/5301-5000-Final-Report/main/data/UTK/UTKpart1.csv\")\nchunk2_df = pd.read_csv(\"https://raw.githubusercontent.com/CUBoulder-DS/5301-5000-Final-Report/main/data/UTK/UTKpart2.csv\")\nchunk3_df = pd.read_csv(\"https://raw.githubusercontent.com/CUBoulder-DS/5301-5000-Final-Report/main/data/UTK/UTKpart3.csv\")\n\n#creating a new categorical age range column, starting off blank\nchunk1_df['src_age_grp']=\"\"\nchunk2_df['src_age_grp']=\"\"\nchunk3_df['src_age_grp']=\"\"\n\n#######NOTE: below code can be re-used / modified to run on DeepFace evaluation output to place its prediction in the same cateogries as Fair Face#######\n\n#function to check for ages in a given range and to assign a categorical variable\n#if the age is between the provided start/stop (inclusive), then the categorical column is assigned the string \"start-stop\"\ndef bin_age(in_df,age_column,new_column_name,start,stop):\n    in_df[new_column_name]=np.where(in_df[age_column].between(start,stop,inclusive=\"both\"),\"\"+str(start)+\"-\"+str(stop),in_df[new_column_name])\n    return in_df\n\n#iterate through the valid age ranges for what is valid output from FairFace\nage_ranges = [(0,2),(3,9),(10,19),(20,29),(30,39),(40,49),(50,59),(60,69),(70,130)]\n#place all ages into their appropriate bins using the bin_age function\nfor age_group in age_ranges:\n    chunk1_df=bin_age(chunk1_df,'src_age','src_age_grp',age_group[0],age_group[1])\n    chunk2_df=bin_age(chunk2_df,'src_age','src_age_grp',age_group[0],age_group[1])\n    chunk3_df=bin_age(chunk3_df,'src_age','src_age_grp',age_group[0],age_group[1])\n\nall_chunks = pd.concat([chunk1_df,chunk2_df,chunk3_df], ignore_index=True)\n#all_chunks\n#chunk1_df['src_age_grp']=np.where(chunk1_df['src_age'].between(10,19),\"10-19\",\"\")\nchunk3_df\n",
      "metadata": {
        "source_hash": "1db40df1",
        "execution_start": 1694808923216,
        "execution_millis": 795,
        "deepnote_table_state": {
          "sortBy": [],
          "filters": [],
          "pageSize": 10,
          "pageIndex": 4
        },
        "deepnote_table_loading": false,
        "deepnote_app_coordinates": {
          "h": 5,
          "w": 12,
          "x": 0,
          "y": 0
        },
        "deepnote_to_be_reexecuted": false,
        "cell_id": "ae72b9a3d7324a0a9bd5237c99b04fc0",
        "deepnote_cell_type": "code"
      },
      "outputs": [
        {
          "output_type": "execute_result",
          "execution_count": 2,
          "data": {
            "application/vnd.deepnote.dataframe.v3+json": {
              "column_count": 7,
              "row_count": 3250,
              "columns": [
                {
                  "name": "Unnamed: 0",
                  "dtype": "int64",
                  "stats": {
                    "unique_count": 3250,
                    "nan_count": 0,
                    "min": "0",
                    "max": "3249",
                    "histogram": [
                      {
                        "bin_start": 0,
                        "bin_end": 324.9,
                        "count": 325
                      },
                      {
                        "bin_start": 324.9,
                        "bin_end": 649.8,
                        "count": 325
                      },
                      {
                        "bin_start": 649.8,
                        "bin_end": 974.6999999999999,
                        "count": 325
                      },
                      {
                        "bin_start": 974.6999999999999,
                        "bin_end": 1299.6,
                        "count": 325
                      },
                      {
                        "bin_start": 1299.6,
                        "bin_end": 1624.5,
                        "count": 325
                      },
                      {
                        "bin_start": 1624.5,
                        "bin_end": 1949.3999999999999,
                        "count": 325
                      },
                      {
                        "bin_start": 1949.3999999999999,
                        "bin_end": 2274.2999999999997,
                        "count": 325
                      },
                      {
                        "bin_start": 2274.2999999999997,
                        "bin_end": 2599.2,
                        "count": 325
                      },
                      {
                        "bin_start": 2599.2,
                        "bin_end": 2924.1,
                        "count": 325
                      },
                      {
                        "bin_start": 2924.1,
                        "bin_end": 3249,
                        "count": 325
                      }
                    ]
                  }
                },
                {
                  "name": "file",
                  "dtype": "object",
                  "stats": {
                    "unique_count": 3250,
                    "nan_count": 0,
                    "categories": [
                      {
                        "name": "100_1_0_20170119212053665.jpg",
                        "count": 1
                      },
                      {
                        "name": "10_0_0_20170116201102149.jpg",
                        "count": 1
                      },
                      {
                        "name": "3248 others",
                        "count": 3248
                      }
                    ]
                  }
                },
                {
                  "name": "src_age",
                  "dtype": "int64",
                  "stats": {
                    "unique_count": 95,
                    "nan_count": 0,
                    "min": "1",
                    "max": "116",
                    "histogram": [
                      {
                        "bin_start": 1,
                        "bin_end": 12.5,
                        "count": 27
                      },
                      {
                        "bin_start": 12.5,
                        "bin_end": 24,
                        "count": 253
                      },
                      {
                        "bin_start": 24,
                        "bin_end": 35.5,
                        "count": 1352
                      },
                      {
                        "bin_start": 35.5,
                        "bin_end": 47,
                        "count": 546
                      },
                      {
                        "bin_start": 47,
                        "bin_end": 58.5,
                        "count": 609
                      },
                      {
                        "bin_start": 58.5,
                        "bin_end": 70,
                        "count": 221
                      },
                      {
                        "bin_start": 70,
                        "bin_end": 81.5,
                        "count": 143
                      },
                      {
                        "bin_start": 81.5,
                        "bin_end": 93,
                        "count": 82
                      },
                      {
                        "bin_start": 93,
                        "bin_end": 104.5,
                        "count": 11
                      },
                      {
                        "bin_start": 104.5,
                        "bin_end": 116,
                        "count": 6
                      }
                    ]
                  }
                },
                {
                  "name": "src_gender",
                  "dtype": "object",
                  "stats": {
                    "unique_count": 2,
                    "nan_count": 0,
                    "categories": [
                      {
                        "name": "Male",
                        "count": 2254
                      },
                      {
                        "name": "Female",
                        "count": 996
                      }
                    ]
                  }
                },
                {
                  "name": "src_race",
                  "dtype": "object",
                  "stats": {
                    "unique_count": 5,
                    "nan_count": 0,
                    "categories": [
                      {
                        "name": "Indian",
                        "count": 1974
                      },
                      {
                        "name": "White",
                        "count": 907
                      },
                      {
                        "name": "3 others",
                        "count": 369
                      }
                    ]
                  }
                },
                {
                  "name": "src_timestamp",
                  "dtype": "int64",
                  "stats": {
                    "unique_count": 3128,
                    "nan_count": 0,
                    "min": "20170114024948220",
                    "max": "201701162330572788",
                    "histogram": [
                      {
                        "bin_start": 20170114024948220,
                        "bin_end": 38323218855510670,
                        "count": 3249
                      },
                      {
                        "bin_start": 38323218855510670,
                        "bin_end": 56476323686073140,
                        "count": 0
                      },
                      {
                        "bin_start": 56476323686073140,
                        "bin_end": 74629428516635580,
                        "count": 0
                      },
                      {
                        "bin_start": 74629428516635580,
                        "bin_end": 92782533347198050,
                        "count": 0
                      },
                      {
                        "bin_start": 92782533347198050,
                        "bin_end": 110935638177760510,
                        "count": 0
                      },
                      {
                        "bin_start": 110935638177760510,
                        "bin_end": 129088743008322960,
                        "count": 0
                      },
                      {
                        "bin_start": 129088743008322960,
                        "bin_end": 147241847838885400,
                        "count": 0
                      },
                      {
                        "bin_start": 147241847838885400,
                        "bin_end": 165394952669447870,
                        "count": 0
                      },
                      {
                        "bin_start": 165394952669447870,
                        "bin_end": 183548057500010340,
                        "count": 0
                      },
                      {
                        "bin_start": 183548057500010340,
                        "bin_end": 201701162330572800,
                        "count": 1
                      }
                    ]
                  }
                },
                {
                  "name": "src_age_grp",
                  "dtype": "object",
                  "stats": {
                    "unique_count": 9,
                    "nan_count": 0,
                    "categories": [
                      {
                        "name": "20-29",
                        "count": 1133
                      },
                      {
                        "name": "30-39",
                        "count": 631
                      },
                      {
                        "name": "7 others",
                        "count": 1486
                      }
                    ]
                  }
                },
                {
                  "name": "_deepnote_index_column",
                  "dtype": "int64"
                }
              ],
              "rows": [
                {
                  "Unnamed: 0": 40,
                  "file": "17_1_0_20170116222802508.jpg",
                  "src_age": 17,
                  "src_gender": "Female",
                  "src_race": "White",
                  "src_timestamp": 20170116222802508,
                  "src_age_grp": "10-19",
                  "_deepnote_index_column": 40
                },
                {
                  "Unnamed: 0": 41,
                  "file": "17_1_3_20170119153612825.jpg",
                  "src_age": 17,
                  "src_gender": "Female",
                  "src_race": "Indian",
                  "src_timestamp": 20170119153612824,
                  "src_age_grp": "10-19",
                  "_deepnote_index_column": 41
                },
                {
                  "Unnamed: 0": 42,
                  "file": "17_1_3_20170119153627673.jpg",
                  "src_age": 17,
                  "src_gender": "Female",
                  "src_race": "Indian",
                  "src_timestamp": 20170119153627670,
                  "src_age_grp": "10-19",
                  "_deepnote_index_column": 42
                },
                {
                  "Unnamed: 0": 43,
                  "file": "18_0_1_20170120134900190.jpg",
                  "src_age": 18,
                  "src_gender": "Male",
                  "src_race": "Black",
                  "src_timestamp": 20170120134900190,
                  "src_age_grp": "10-19",
                  "_deepnote_index_column": 43
                },
                {
                  "Unnamed: 0": 44,
                  "file": "18_0_3_20170116221917954.jpg",
                  "src_age": 18,
                  "src_gender": "Male",
                  "src_race": "Indian",
                  "src_timestamp": 20170116221917950,
                  "src_age_grp": "10-19",
                  "_deepnote_index_column": 44
                },
                {
                  "Unnamed: 0": 45,
                  "file": "18_0_3_20170119144144877.jpg",
                  "src_age": 18,
                  "src_gender": "Male",
                  "src_race": "Indian",
                  "src_timestamp": 20170119144144876,
                  "src_age_grp": "10-19",
                  "_deepnote_index_column": 45
                },
                {
                  "Unnamed: 0": 46,
                  "file": "18_0_3_20170119151213151.jpg",
                  "src_age": 18,
                  "src_gender": "Male",
                  "src_race": "Indian",
                  "src_timestamp": 20170119151213150,
                  "src_age_grp": "10-19",
                  "_deepnote_index_column": 46
                },
                {
                  "Unnamed: 0": 47,
                  "file": "18_1_0_20170117133441179.jpg",
                  "src_age": 18,
                  "src_gender": "Female",
                  "src_race": "White",
                  "src_timestamp": 20170117133441180,
                  "src_age_grp": "10-19",
                  "_deepnote_index_column": 47
                },
                {
                  "Unnamed: 0": 48,
                  "file": "18_1_1_20170116164854853.jpg",
                  "src_age": 18,
                  "src_gender": "Female",
                  "src_race": "Black",
                  "src_timestamp": 20170116164854852,
                  "src_age_grp": "10-19",
                  "_deepnote_index_column": 48
                },
                {
                  "Unnamed: 0": 49,
                  "file": "18_1_3_20170119152509320.jpg",
                  "src_age": 18,
                  "src_gender": "Female",
                  "src_race": "Indian",
                  "src_timestamp": 20170119152509320,
                  "src_age_grp": "10-19",
                  "_deepnote_index_column": 49
                }
              ]
            },
            "text/plain": "      Unnamed: 0                           file  src_age src_gender src_race  \\\n0              0  100_1_0_20170119212053665.jpg      100     Female    White   \n1              1   10_0_0_20170116201102149.jpg       10       Male    White   \n2              2   10_0_0_20170120220628194.jpg       10       Male    White   \n3              3   10_0_1_20170116225209209.jpg       10       Male    Black   \n4              4   10_1_1_20170116225209209.jpg       10     Female    Black   \n...          ...                            ...      ...        ...      ...   \n3245        3245   99_1_0_20170120134718759.jpg       99     Female    White   \n3246        3246   99_1_0_20170120221920654.jpg       99     Female    White   \n3247        3247   99_1_1_20170120134639935.jpg       99     Female    Black   \n3248        3248    9_0_0_20170120133313910.jpg        9       Male    White   \n3249        3249    9_0_0_20170120133317677.jpg        9       Male    White   \n\n          src_timestamp src_age_grp  \n0     20170119212053665      70-130  \n1     20170116201102149       10-19  \n2     20170120220628194       10-19  \n3     20170116225209209       10-19  \n4     20170116225209209       10-19  \n...                 ...         ...  \n3245  20170120134718759      70-130  \n3246  20170120221920654      70-130  \n3247  20170120134639935      70-130  \n3248  20170120133313910         3-9  \n3249  20170120133317677         3-9  \n\n[3250 rows x 7 columns]",
            "text/html": "<div>\n<style scoped>\n    .dataframe tbody tr th:only-of-type {\n        vertical-align: middle;\n    }\n\n    .dataframe tbody tr th {\n        vertical-align: top;\n    }\n\n    .dataframe thead th {\n        text-align: right;\n    }\n</style>\n<table border=\"1\" class=\"dataframe\">\n  <thead>\n    <tr style=\"text-align: right;\">\n      <th></th>\n      <th>Unnamed: 0</th>\n      <th>file</th>\n      <th>src_age</th>\n      <th>src_gender</th>\n      <th>src_race</th>\n      <th>src_timestamp</th>\n      <th>src_age_grp</th>\n    </tr>\n  </thead>\n  <tbody>\n    <tr>\n      <th>0</th>\n      <td>0</td>\n      <td>100_1_0_20170119212053665.jpg</td>\n      <td>100</td>\n      <td>Female</td>\n      <td>White</td>\n      <td>20170119212053665</td>\n      <td>70-130</td>\n    </tr>\n    <tr>\n      <th>1</th>\n      <td>1</td>\n      <td>10_0_0_20170116201102149.jpg</td>\n      <td>10</td>\n      <td>Male</td>\n      <td>White</td>\n      <td>20170116201102149</td>\n      <td>10-19</td>\n    </tr>\n    <tr>\n      <th>2</th>\n      <td>2</td>\n      <td>10_0_0_20170120220628194.jpg</td>\n      <td>10</td>\n      <td>Male</td>\n      <td>White</td>\n      <td>20170120220628194</td>\n      <td>10-19</td>\n    </tr>\n    <tr>\n      <th>3</th>\n      <td>3</td>\n      <td>10_0_1_20170116225209209.jpg</td>\n      <td>10</td>\n      <td>Male</td>\n      <td>Black</td>\n      <td>20170116225209209</td>\n      <td>10-19</td>\n    </tr>\n    <tr>\n      <th>4</th>\n      <td>4</td>\n      <td>10_1_1_20170116225209209.jpg</td>\n      <td>10</td>\n      <td>Female</td>\n      <td>Black</td>\n      <td>20170116225209209</td>\n      <td>10-19</td>\n    </tr>\n    <tr>\n      <th>...</th>\n      <td>...</td>\n      <td>...</td>\n      <td>...</td>\n      <td>...</td>\n      <td>...</td>\n      <td>...</td>\n      <td>...</td>\n    </tr>\n    <tr>\n      <th>3245</th>\n      <td>3245</td>\n      <td>99_1_0_20170120134718759.jpg</td>\n      <td>99</td>\n      <td>Female</td>\n      <td>White</td>\n      <td>20170120134718759</td>\n      <td>70-130</td>\n    </tr>\n    <tr>\n      <th>3246</th>\n      <td>3246</td>\n      <td>99_1_0_20170120221920654.jpg</td>\n      <td>99</td>\n      <td>Female</td>\n      <td>White</td>\n      <td>20170120221920654</td>\n      <td>70-130</td>\n    </tr>\n    <tr>\n      <th>3247</th>\n      <td>3247</td>\n      <td>99_1_1_20170120134639935.jpg</td>\n      <td>99</td>\n      <td>Female</td>\n      <td>Black</td>\n      <td>20170120134639935</td>\n      <td>70-130</td>\n    </tr>\n    <tr>\n      <th>3248</th>\n      <td>3248</td>\n      <td>9_0_0_20170120133313910.jpg</td>\n      <td>9</td>\n      <td>Male</td>\n      <td>White</td>\n      <td>20170120133313910</td>\n      <td>3-9</td>\n    </tr>\n    <tr>\n      <th>3249</th>\n      <td>3249</td>\n      <td>9_0_0_20170120133317677.jpg</td>\n      <td>9</td>\n      <td>Male</td>\n      <td>White</td>\n      <td>20170120133317677</td>\n      <td>3-9</td>\n    </tr>\n  </tbody>\n</table>\n<p>3250 rows × 7 columns</p>\n</div>"
          },
          "metadata": {}
        }
      ],
      "execution_count": 2,
      "block_group": "d08d79cd544849668a0ba5e0df1621bf"
    },
    {
      "cell_type": "code",
      "source": "## BJ\n# Read in the labels dataset and clean/normalize\n\n# Read in from local csvs\noptions = dict(index_col=0, dtype={\"src_gender\": \"category\", \"src_race\": \"category\"})\ndf_utk_1 = pd.read_csv(\"data/UTK/UTKpart1.csv\", **options)\ndf_utk_2 = pd.read_csv(\"data/UTK/UTKpart2.csv\", **options)\ndf_utk_3 = pd.read_csv(\"data/UTK/UTKpart3.csv\", **options)\n\nbins = [0, 3, 10, 20, 30, 40, 50, 60, 70, np.inf]\ngroup_names = [\"0-2\", \"3-9\", \"10-19\", \"20-29\", \"30-39\", \"40-49\", \"50-59\", \"60-69\", \"70-130\"]\n\nfor df in [df_utk_1, df_utk_2, df_utk_3]:\n    # Create bins for the age ranges\n    df[\"src_age_grp\"] = pd.cut(df['src_age'], bins, right=False, labels=group_names)\n    # Convert timestamp to python pandas native timestamp\n    df[\"src_timestamp\"] = pd.to_datetime(df[\"src_timestamp\"], format=\"%Y%m%d%H%M%S%f\")\n    # Remove rows with invalid data\n    df.drop(df[(df[\"src_gender\"] == \"0\") | (df[\"src_race\"] == \"0\")].index, inplace=True)\n    # Re-categorize the categories since the invalid \"0\" was removed\n    df[\"src_gender\"].cat.remove_unused_categories(inplace=True)\n    df[\"src_race\"].cat.remove_unused_categories(inplace=True)\n\n\n# Unified df\ndf_utk = pd.concat([df_utk_1, df_utk_2, df_utk_3], ignore_index=True)\n# Convert object columns to categories again, as concatenation across categories doesn't work\ndf_utk[[\"src_gender\", \"src_race\"]] = df_utk[[\"src_gender\", \"src_race\"]].astype(\"category\")\ndf_utk",
      "metadata": {
        "source_hash": "3c332014",
        "execution_start": 1694809632485,
        "execution_millis": 532,
        "deepnote_table_state": {
          "sortBy": [],
          "filters": [],
          "pageSize": 10,
          "pageIndex": 9
        },
        "deepnote_table_loading": false,
        "deepnote_app_coordinates": {
          "h": 5,
          "w": 12,
          "x": 0,
          "y": 0
        },
        "deepnote_to_be_reexecuted": false,
        "cell_id": "ce8bffd5de8c49989f15792c030e8d4d",
        "deepnote_cell_type": "code"
      },
      "outputs": [
        {
          "name": "stderr",
          "text": "/shared-libs/python3.10/py/lib/python3.10/site-packages/pandas/core/arrays/categorical.py:2492: FutureWarning:\n\nThe `inplace` parameter in pandas.Categorical.remove_unused_categories is deprecated and will be removed in a future version.\n\n",
          "output_type": "stream"
        },
        {
          "output_type": "execute_result",
          "execution_count": 19,
          "data": {
            "application/vnd.deepnote.dataframe.v3+json": {
              "column_count": 6,
              "row_count": 24102,
              "columns": [
                {
                  "name": "file",
                  "dtype": "object",
                  "stats": {
                    "unique_count": 24102,
                    "nan_count": 0,
                    "categories": [
                      {
                        "name": "100_1_0_20170110183726390.jpg",
                        "count": 1
                      },
                      {
                        "name": "100_1_2_20170105174847679.jpg",
                        "count": 1
                      },
                      {
                        "name": "24100 others",
                        "count": 24100
                      }
                    ]
                  }
                },
                {
                  "name": "src_age",
                  "dtype": "int64",
                  "stats": {
                    "unique_count": 104,
                    "nan_count": 0,
                    "min": "1",
                    "max": "116",
                    "histogram": [
                      {
                        "bin_start": 1,
                        "bin_end": 12.5,
                        "count": 3689
                      },
                      {
                        "bin_start": 12.5,
                        "bin_end": 24,
                        "count": 2656
                      },
                      {
                        "bin_start": 24,
                        "bin_end": 35.5,
                        "count": 9086
                      },
                      {
                        "bin_start": 35.5,
                        "bin_end": 47,
                        "count": 3142
                      },
                      {
                        "bin_start": 47,
                        "bin_end": 58.5,
                        "count": 2700
                      },
                      {
                        "bin_start": 58.5,
                        "bin_end": 70,
                        "count": 1415
                      },
                      {
                        "bin_start": 70,
                        "bin_end": 81.5,
                        "count": 872
                      },
                      {
                        "bin_start": 81.5,
                        "bin_end": 93,
                        "count": 467
                      },
                      {
                        "bin_start": 93,
                        "bin_end": 104.5,
                        "count": 56
                      },
                      {
                        "bin_start": 104.5,
                        "bin_end": 116,
                        "count": 19
                      }
                    ]
                  }
                },
                {
                  "name": "src_gender",
                  "dtype": "category",
                  "stats": {
                    "unique_count": 2,
                    "nan_count": 0,
                    "categories": [
                      {
                        "name": "Male",
                        "count": 12581
                      },
                      {
                        "name": "Female",
                        "count": 11521
                      }
                    ]
                  }
                },
                {
                  "name": "src_race",
                  "dtype": "category",
                  "stats": {
                    "unique_count": 5,
                    "nan_count": 0,
                    "categories": [
                      {
                        "name": "White",
                        "count": 10221
                      },
                      {
                        "name": "Black",
                        "count": 4558
                      },
                      {
                        "name": "3 others",
                        "count": 9323
                      }
                    ]
                  }
                },
                {
                  "name": "src_timestamp",
                  "dtype": "datetime64[ns]"
                },
                {
                  "name": "src_age_grp",
                  "dtype": "category"
                },
                {
                  "name": "_deepnote_index_column",
                  "dtype": "int64"
                }
              ],
              "rows": [
                {
                  "file": "10_1_0_20170109201728056.jpg",
                  "src_age": 10,
                  "src_gender": "Female",
                  "src_race": "White",
                  "src_timestamp": "2017-01-09 20:17:28.056000",
                  "src_age_grp": "10-19",
                  "_deepnote_index_column": 90
                },
                {
                  "file": "10_1_0_20170109202251032.jpg",
                  "src_age": 10,
                  "src_gender": "Female",
                  "src_race": "White",
                  "src_timestamp": "2017-01-09 20:22:51.032000",
                  "src_age_grp": "10-19",
                  "_deepnote_index_column": 91
                },
                {
                  "file": "10_1_0_20170109202346880.jpg",
                  "src_age": 10,
                  "src_gender": "Female",
                  "src_race": "White",
                  "src_timestamp": "2017-01-09 20:23:46.880000",
                  "src_age_grp": "10-19",
                  "_deepnote_index_column": 92
                },
                {
                  "file": "10_1_0_20170109203218966.jpg",
                  "src_age": 10,
                  "src_gender": "Female",
                  "src_race": "White",
                  "src_timestamp": "2017-01-09 20:32:18.968000",
                  "src_age_grp": "10-19",
                  "_deepnote_index_column": 93
                },
                {
                  "file": "10_1_0_20170109203245653.jpg",
                  "src_age": 10,
                  "src_gender": "Female",
                  "src_race": "White",
                  "src_timestamp": "2017-01-09 20:32:45.652000",
                  "src_age_grp": "10-19",
                  "_deepnote_index_column": 94
                },
                {
                  "file": "10_1_0_20170109203357787.jpg",
                  "src_age": 10,
                  "src_gender": "Female",
                  "src_race": "White",
                  "src_timestamp": "2017-01-09 20:33:57.788000",
                  "src_age_grp": "10-19",
                  "_deepnote_index_column": 95
                },
                {
                  "file": "10_1_0_20170109203427416.jpg",
                  "src_age": 10,
                  "src_gender": "Female",
                  "src_race": "White",
                  "src_timestamp": "2017-01-09 20:34:27.416000",
                  "src_age_grp": "10-19",
                  "_deepnote_index_column": 96
                },
                {
                  "file": "10_1_0_20170109203438428.jpg",
                  "src_age": 10,
                  "src_gender": "Female",
                  "src_race": "White",
                  "src_timestamp": "2017-01-09 20:34:38.428000",
                  "src_age_grp": "10-19",
                  "_deepnote_index_column": 97
                },
                {
                  "file": "10_1_0_20170109203501969.jpg",
                  "src_age": 10,
                  "src_gender": "Female",
                  "src_race": "White",
                  "src_timestamp": "2017-01-09 20:35:01.968000",
                  "src_age_grp": "10-19",
                  "_deepnote_index_column": 98
                },
                {
                  "file": "10_1_0_20170109203512075.jpg",
                  "src_age": 10,
                  "src_gender": "Female",
                  "src_race": "White",
                  "src_timestamp": "2017-01-09 20:35:12.076000",
                  "src_age_grp": "10-19",
                  "_deepnote_index_column": 99
                }
              ]
            },
            "text/plain": "                                file  src_age src_gender src_race  \\\n0      100_1_0_20170110183726390.jpg      100     Female    White   \n1      100_1_2_20170105174847679.jpg      100     Female    Asian   \n2      100_1_2_20170110182836729.jpg      100     Female    Asian   \n3      101_1_2_20170105174739309.jpg      101     Female    Asian   \n4       10_0_0_20161220222308131.jpg       10       Male    White   \n...                              ...      ...        ...      ...   \n24097   99_1_0_20170120134718759.jpg       99     Female    White   \n24098   99_1_0_20170120221920654.jpg       99     Female    White   \n24099   99_1_1_20170120134639935.jpg       99     Female    Black   \n24100    9_0_0_20170120133313910.jpg        9       Male    White   \n24101    9_0_0_20170120133317677.jpg        9       Male    White   \n\n                src_timestamp src_age_grp  \n0     2017-01-10 18:37:26.392      70-130  \n1     2017-01-05 17:48:47.680      70-130  \n2     2017-01-10 18:28:36.728      70-130  \n3     2017-01-05 17:47:39.308      70-130  \n4     2016-12-20 22:23:08.132       10-19  \n...                       ...         ...  \n24097 2017-01-20 13:47:18.759      70-130  \n24098 2017-01-20 22:19:20.654      70-130  \n24099 2017-01-20 13:46:39.935      70-130  \n24100 2017-01-20 13:33:13.910         3-9  \n24101 2017-01-20 13:33:17.677         3-9  \n\n[24102 rows x 6 columns]",
            "text/html": "<div>\n<style scoped>\n    .dataframe tbody tr th:only-of-type {\n        vertical-align: middle;\n    }\n\n    .dataframe tbody tr th {\n        vertical-align: top;\n    }\n\n    .dataframe thead th {\n        text-align: right;\n    }\n</style>\n<table border=\"1\" class=\"dataframe\">\n  <thead>\n    <tr style=\"text-align: right;\">\n      <th></th>\n      <th>file</th>\n      <th>src_age</th>\n      <th>src_gender</th>\n      <th>src_race</th>\n      <th>src_timestamp</th>\n      <th>src_age_grp</th>\n    </tr>\n  </thead>\n  <tbody>\n    <tr>\n      <th>0</th>\n      <td>100_1_0_20170110183726390.jpg</td>\n      <td>100</td>\n      <td>Female</td>\n      <td>White</td>\n      <td>2017-01-10 18:37:26.392</td>\n      <td>70-130</td>\n    </tr>\n    <tr>\n      <th>1</th>\n      <td>100_1_2_20170105174847679.jpg</td>\n      <td>100</td>\n      <td>Female</td>\n      <td>Asian</td>\n      <td>2017-01-05 17:48:47.680</td>\n      <td>70-130</td>\n    </tr>\n    <tr>\n      <th>2</th>\n      <td>100_1_2_20170110182836729.jpg</td>\n      <td>100</td>\n      <td>Female</td>\n      <td>Asian</td>\n      <td>2017-01-10 18:28:36.728</td>\n      <td>70-130</td>\n    </tr>\n    <tr>\n      <th>3</th>\n      <td>101_1_2_20170105174739309.jpg</td>\n      <td>101</td>\n      <td>Female</td>\n      <td>Asian</td>\n      <td>2017-01-05 17:47:39.308</td>\n      <td>70-130</td>\n    </tr>\n    <tr>\n      <th>4</th>\n      <td>10_0_0_20161220222308131.jpg</td>\n      <td>10</td>\n      <td>Male</td>\n      <td>White</td>\n      <td>2016-12-20 22:23:08.132</td>\n      <td>10-19</td>\n    </tr>\n    <tr>\n      <th>...</th>\n      <td>...</td>\n      <td>...</td>\n      <td>...</td>\n      <td>...</td>\n      <td>...</td>\n      <td>...</td>\n    </tr>\n    <tr>\n      <th>24097</th>\n      <td>99_1_0_20170120134718759.jpg</td>\n      <td>99</td>\n      <td>Female</td>\n      <td>White</td>\n      <td>2017-01-20 13:47:18.759</td>\n      <td>70-130</td>\n    </tr>\n    <tr>\n      <th>24098</th>\n      <td>99_1_0_20170120221920654.jpg</td>\n      <td>99</td>\n      <td>Female</td>\n      <td>White</td>\n      <td>2017-01-20 22:19:20.654</td>\n      <td>70-130</td>\n    </tr>\n    <tr>\n      <th>24099</th>\n      <td>99_1_1_20170120134639935.jpg</td>\n      <td>99</td>\n      <td>Female</td>\n      <td>Black</td>\n      <td>2017-01-20 13:46:39.935</td>\n      <td>70-130</td>\n    </tr>\n    <tr>\n      <th>24100</th>\n      <td>9_0_0_20170120133313910.jpg</td>\n      <td>9</td>\n      <td>Male</td>\n      <td>White</td>\n      <td>2017-01-20 13:33:13.910</td>\n      <td>3-9</td>\n    </tr>\n    <tr>\n      <th>24101</th>\n      <td>9_0_0_20170120133317677.jpg</td>\n      <td>9</td>\n      <td>Male</td>\n      <td>White</td>\n      <td>2017-01-20 13:33:17.677</td>\n      <td>3-9</td>\n    </tr>\n  </tbody>\n</table>\n<p>24102 rows × 6 columns</p>\n</div>"
          },
          "metadata": {}
        }
      ],
      "execution_count": 19,
      "block_group": "ee8d66cf24954a479326eeda5c123fbd"
    },
    {
      "cell_type": "code",
      "source": "## BJ\n# Plot the distributions of age/gender/race across the different chunks\n\nfig = go.Figure()\nfor i, df in enumerate([df_utk_1, df_utk_2, df_utk_3]):\n    fig.add_trace(go.Bar(x=list(df[\"src_gender\"].value_counts().index), y=list(df[\"src_gender\"].value_counts(normalize=True)), name='df_utk_'+str(i+1)))\nfig.update_layout(barmode='group', title_text=\"Gender ratios across chunks of the UTK dataset\")\nfig.show()\n\n\nfig = go.Figure()\nfor i, df in enumerate([df_utk_1, df_utk_2, df_utk_3]):\n    fig.add_trace(go.Bar(x=list(df[\"src_race\"].value_counts().index), y=list(df[\"src_race\"].value_counts(normalize=True)), name='df_utk_'+str(i+1)))\nfig.update_layout(barmode='group', title_text=\"Race ratios across chunks of the UTK dataset\")\nfig.show()\n\nfig = go.Figure()\nfor i, df in enumerate([df_utk_1, df_utk_2, df_utk_3]):\n    fig.add_trace(go.Bar(x=list(df[\"src_age_grp\"].value_counts().index), y=list(df[\"src_age_grp\"].value_counts(normalize=True)), name='df_utk_'+str(i+1)))\nfig.update_layout(barmode='group', title_text=\"Age ratios across chunks of the UTK dataset\")\nfig.show()\n",
      "metadata": {
        "source_hash": "587dc00",
        "execution_start": 1694809677831,
        "execution_millis": 531,
        "deepnote_app_coordinates": {
          "h": 5,
          "w": 12,
          "x": 0,
          "y": 0
        },
        "deepnote_to_be_reexecuted": false,
        "cell_id": "fd9d79c4a3e74cd7a43ad83be0b5f79b",
        "deepnote_cell_type": "code"
      },
      "outputs": [
        {
          "data": {
            "text/html": "<div>                            <div id=\"32a6862f-96e3-43c5-90e7-1893dd1ac525\" class=\"plotly-graph-div\" style=\"height:525px; width:100%;\"></div>            <script type=\"text/javascript\">                require([\"plotly\"], function(Plotly) {                    window.PLOTLYENV=window.PLOTLYENV || {};                                    if (document.getElementById(\"32a6862f-96e3-43c5-90e7-1893dd1ac525\")) {                    Plotly.newPlot(                        \"32a6862f-96e3-43c5-90e7-1893dd1ac525\",                        [{\"name\":\"df_utk_1\",\"x\":[\"Female\",\"Male\"],\"y\":[0.5521460286137149,0.44785397138628513],\"type\":\"bar\"},{\"name\":\"df_utk_2\",\"x\":[\"Male\",\"Female\"],\"y\":[0.5400765139497994,0.4599234860502006],\"type\":\"bar\"},{\"name\":\"df_utk_3\",\"x\":[\"Male\",\"Female\"],\"y\":[0.6935384615384615,0.30646153846153845],\"type\":\"bar\"}],                        {\"template\":{\"data\":{\"histogram2dcontour\":[{\"type\":\"histogram2dcontour\",\"colorbar\":{\"outlinewidth\":0,\"ticks\":\"\"},\"colorscale\":[[0.0,\"#0d0887\"],[0.1111111111111111,\"#46039f\"],[0.2222222222222222,\"#7201a8\"],[0.3333333333333333,\"#9c179e\"],[0.4444444444444444,\"#bd3786\"],[0.5555555555555556,\"#d8576b\"],[0.6666666666666666,\"#ed7953\"],[0.7777777777777778,\"#fb9f3a\"],[0.8888888888888888,\"#fdca26\"],[1.0,\"#f0f921\"]]}],\"choropleth\":[{\"type\":\"choropleth\",\"colorbar\":{\"outlinewidth\":0,\"ticks\":\"\"}}],\"histogram2d\":[{\"type\":\"histogram2d\",\"colorbar\":{\"outlinewidth\":0,\"ticks\":\"\"},\"colorscale\":[[0.0,\"#0d0887\"],[0.1111111111111111,\"#46039f\"],[0.2222222222222222,\"#7201a8\"],[0.3333333333333333,\"#9c179e\"],[0.4444444444444444,\"#bd3786\"],[0.5555555555555556,\"#d8576b\"],[0.6666666666666666,\"#ed7953\"],[0.7777777777777778,\"#fb9f3a\"],[0.8888888888888888,\"#fdca26\"],[1.0,\"#f0f921\"]]}],\"heatmap\":[{\"type\":\"heatmap\",\"colorbar\":{\"outlinewidth\":0,\"ticks\":\"\"},\"colorscale\":[[0.0,\"#0d0887\"],[0.1111111111111111,\"#46039f\"],[0.2222222222222222,\"#7201a8\"],[0.3333333333333333,\"#9c179e\"],[0.4444444444444444,\"#bd3786\"],[0.5555555555555556,\"#d8576b\"],[0.6666666666666666,\"#ed7953\"],[0.7777777777777778,\"#fb9f3a\"],[0.8888888888888888,\"#fdca26\"],[1.0,\"#f0f921\"]]}],\"heatmapgl\":[{\"type\":\"heatmapgl\",\"colorbar\":{\"outlinewidth\":0,\"ticks\":\"\"},\"colorscale\":[[0.0,\"#0d0887\"],[0.1111111111111111,\"#46039f\"],[0.2222222222222222,\"#7201a8\"],[0.3333333333333333,\"#9c179e\"],[0.4444444444444444,\"#bd3786\"],[0.5555555555555556,\"#d8576b\"],[0.6666666666666666,\"#ed7953\"],[0.7777777777777778,\"#fb9f3a\"],[0.8888888888888888,\"#fdca26\"],[1.0,\"#f0f921\"]]}],\"contourcarpet\":[{\"type\":\"contourcarpet\",\"colorbar\":{\"outlinewidth\":0,\"ticks\":\"\"}}],\"contour\":[{\"type\":\"contour\",\"colorbar\":{\"outlinewidth\":0,\"ticks\":\"\"},\"colorscale\":[[0.0,\"#0d0887\"],[0.1111111111111111,\"#46039f\"],[0.2222222222222222,\"#7201a8\"],[0.3333333333333333,\"#9c179e\"],[0.4444444444444444,\"#bd3786\"],[0.5555555555555556,\"#d8576b\"],[0.6666666666666666,\"#ed7953\"],[0.7777777777777778,\"#fb9f3a\"],[0.8888888888888888,\"#fdca26\"],[1.0,\"#f0f921\"]]}],\"surface\":[{\"type\":\"surface\",\"colorbar\":{\"outlinewidth\":0,\"ticks\":\"\"},\"colorscale\":[[0.0,\"#0d0887\"],[0.1111111111111111,\"#46039f\"],[0.2222222222222222,\"#7201a8\"],[0.3333333333333333,\"#9c179e\"],[0.4444444444444444,\"#bd3786\"],[0.5555555555555556,\"#d8576b\"],[0.6666666666666666,\"#ed7953\"],[0.7777777777777778,\"#fb9f3a\"],[0.8888888888888888,\"#fdca26\"],[1.0,\"#f0f921\"]]}],\"mesh3d\":[{\"type\":\"mesh3d\",\"colorbar\":{\"outlinewidth\":0,\"ticks\":\"\"}}],\"scatter\":[{\"fillpattern\":{\"fillmode\":\"overlay\",\"size\":10,\"solidity\":0.2},\"type\":\"scatter\"}],\"parcoords\":[{\"type\":\"parcoords\",\"line\":{\"colorbar\":{\"outlinewidth\":0,\"ticks\":\"\"}}}],\"scatterpolargl\":[{\"type\":\"scatterpolargl\",\"marker\":{\"colorbar\":{\"outlinewidth\":0,\"ticks\":\"\"}}}],\"bar\":[{\"error_x\":{\"color\":\"#2a3f5f\"},\"error_y\":{\"color\":\"#2a3f5f\"},\"marker\":{\"line\":{\"color\":\"#E5ECF6\",\"width\":0.5},\"pattern\":{\"fillmode\":\"overlay\",\"size\":10,\"solidity\":0.2}},\"type\":\"bar\"}],\"scattergeo\":[{\"type\":\"scattergeo\",\"marker\":{\"colorbar\":{\"outlinewidth\":0,\"ticks\":\"\"}}}],\"scatterpolar\":[{\"type\":\"scatterpolar\",\"marker\":{\"colorbar\":{\"outlinewidth\":0,\"ticks\":\"\"}}}],\"histogram\":[{\"marker\":{\"pattern\":{\"fillmode\":\"overlay\",\"size\":10,\"solidity\":0.2}},\"type\":\"histogram\"}],\"scattergl\":[{\"type\":\"scattergl\",\"marker\":{\"colorbar\":{\"outlinewidth\":0,\"ticks\":\"\"}}}],\"scatter3d\":[{\"type\":\"scatter3d\",\"line\":{\"colorbar\":{\"outlinewidth\":0,\"ticks\":\"\"}},\"marker\":{\"colorbar\":{\"outlinewidth\":0,\"ticks\":\"\"}}}],\"scattermapbox\":[{\"type\":\"scattermapbox\",\"marker\":{\"colorbar\":{\"outlinewidth\":0,\"ticks\":\"\"}}}],\"scatterternary\":[{\"type\":\"scatterternary\",\"marker\":{\"colorbar\":{\"outlinewidth\":0,\"ticks\":\"\"}}}],\"scattercarpet\":[{\"type\":\"scattercarpet\",\"marker\":{\"colorbar\":{\"outlinewidth\":0,\"ticks\":\"\"}}}],\"carpet\":[{\"aaxis\":{\"endlinecolor\":\"#2a3f5f\",\"gridcolor\":\"white\",\"linecolor\":\"white\",\"minorgridcolor\":\"white\",\"startlinecolor\":\"#2a3f5f\"},\"baxis\":{\"endlinecolor\":\"#2a3f5f\",\"gridcolor\":\"white\",\"linecolor\":\"white\",\"minorgridcolor\":\"white\",\"startlinecolor\":\"#2a3f5f\"},\"type\":\"carpet\"}],\"table\":[{\"cells\":{\"fill\":{\"color\":\"#EBF0F8\"},\"line\":{\"color\":\"white\"}},\"header\":{\"fill\":{\"color\":\"#C8D4E3\"},\"line\":{\"color\":\"white\"}},\"type\":\"table\"}],\"barpolar\":[{\"marker\":{\"line\":{\"color\":\"#E5ECF6\",\"width\":0.5},\"pattern\":{\"fillmode\":\"overlay\",\"size\":10,\"solidity\":0.2}},\"type\":\"barpolar\"}],\"pie\":[{\"automargin\":true,\"type\":\"pie\"}]},\"layout\":{\"autotypenumbers\":\"strict\",\"colorway\":[\"#636efa\",\"#EF553B\",\"#00cc96\",\"#ab63fa\",\"#FFA15A\",\"#19d3f3\",\"#FF6692\",\"#B6E880\",\"#FF97FF\",\"#FECB52\"],\"font\":{\"color\":\"#2a3f5f\"},\"hovermode\":\"closest\",\"hoverlabel\":{\"align\":\"left\"},\"paper_bgcolor\":\"white\",\"plot_bgcolor\":\"#E5ECF6\",\"polar\":{\"bgcolor\":\"#E5ECF6\",\"angularaxis\":{\"gridcolor\":\"white\",\"linecolor\":\"white\",\"ticks\":\"\"},\"radialaxis\":{\"gridcolor\":\"white\",\"linecolor\":\"white\",\"ticks\":\"\"}},\"ternary\":{\"bgcolor\":\"#E5ECF6\",\"aaxis\":{\"gridcolor\":\"white\",\"linecolor\":\"white\",\"ticks\":\"\"},\"baxis\":{\"gridcolor\":\"white\",\"linecolor\":\"white\",\"ticks\":\"\"},\"caxis\":{\"gridcolor\":\"white\",\"linecolor\":\"white\",\"ticks\":\"\"}},\"coloraxis\":{\"colorbar\":{\"outlinewidth\":0,\"ticks\":\"\"}},\"colorscale\":{\"sequential\":[[0.0,\"#0d0887\"],[0.1111111111111111,\"#46039f\"],[0.2222222222222222,\"#7201a8\"],[0.3333333333333333,\"#9c179e\"],[0.4444444444444444,\"#bd3786\"],[0.5555555555555556,\"#d8576b\"],[0.6666666666666666,\"#ed7953\"],[0.7777777777777778,\"#fb9f3a\"],[0.8888888888888888,\"#fdca26\"],[1.0,\"#f0f921\"]],\"sequentialminus\":[[0.0,\"#0d0887\"],[0.1111111111111111,\"#46039f\"],[0.2222222222222222,\"#7201a8\"],[0.3333333333333333,\"#9c179e\"],[0.4444444444444444,\"#bd3786\"],[0.5555555555555556,\"#d8576b\"],[0.6666666666666666,\"#ed7953\"],[0.7777777777777778,\"#fb9f3a\"],[0.8888888888888888,\"#fdca26\"],[1.0,\"#f0f921\"]],\"diverging\":[[0,\"#8e0152\"],[0.1,\"#c51b7d\"],[0.2,\"#de77ae\"],[0.3,\"#f1b6da\"],[0.4,\"#fde0ef\"],[0.5,\"#f7f7f7\"],[0.6,\"#e6f5d0\"],[0.7,\"#b8e186\"],[0.8,\"#7fbc41\"],[0.9,\"#4d9221\"],[1,\"#276419\"]]},\"xaxis\":{\"gridcolor\":\"white\",\"linecolor\":\"white\",\"ticks\":\"\",\"title\":{\"standoff\":15},\"zerolinecolor\":\"white\",\"automargin\":true,\"zerolinewidth\":2},\"yaxis\":{\"gridcolor\":\"white\",\"linecolor\":\"white\",\"ticks\":\"\",\"title\":{\"standoff\":15},\"zerolinecolor\":\"white\",\"automargin\":true,\"zerolinewidth\":2},\"scene\":{\"xaxis\":{\"backgroundcolor\":\"#E5ECF6\",\"gridcolor\":\"white\",\"linecolor\":\"white\",\"showbackground\":true,\"ticks\":\"\",\"zerolinecolor\":\"white\",\"gridwidth\":2},\"yaxis\":{\"backgroundcolor\":\"#E5ECF6\",\"gridcolor\":\"white\",\"linecolor\":\"white\",\"showbackground\":true,\"ticks\":\"\",\"zerolinecolor\":\"white\",\"gridwidth\":2},\"zaxis\":{\"backgroundcolor\":\"#E5ECF6\",\"gridcolor\":\"white\",\"linecolor\":\"white\",\"showbackground\":true,\"ticks\":\"\",\"zerolinecolor\":\"white\",\"gridwidth\":2}},\"shapedefaults\":{\"line\":{\"color\":\"#2a3f5f\"}},\"annotationdefaults\":{\"arrowcolor\":\"#2a3f5f\",\"arrowhead\":0,\"arrowwidth\":1},\"geo\":{\"bgcolor\":\"white\",\"landcolor\":\"#E5ECF6\",\"subunitcolor\":\"white\",\"showland\":true,\"showlakes\":true,\"lakecolor\":\"white\"},\"title\":{\"x\":0.05},\"mapbox\":{\"style\":\"light\"}}},\"title\":{\"text\":\"Gender ratios across chunks of the UTK dataset\"},\"barmode\":\"group\"},                        {\"responsive\": true}                    ).then(function(){\n                            \nvar gd = document.getElementById('32a6862f-96e3-43c5-90e7-1893dd1ac525');\nvar x = new MutationObserver(function (mutations, observer) {{\n        var display = window.getComputedStyle(gd).display;\n        if (!display || display === 'none') {{\n            console.log([gd, 'removed!']);\n            Plotly.purge(gd);\n            observer.disconnect();\n        }}\n}});\n\n// Listen for the removal of the full notebook cells\nvar notebookContainer = gd.closest('#notebook-container');\nif (notebookContainer) {{\n    x.observe(notebookContainer, {childList: true});\n}}\n\n// Listen for the clearing of the current output cell\nvar outputEl = gd.closest('.output');\nif (outputEl) {{\n    x.observe(outputEl, {childList: true});\n}}\n\n                        })                };                });            </script>        </div>",
            "application/vnd.plotly.v1+json": {
              "data": [
                {
                  "name": "df_utk_1",
                  "x": [
                    "Female",
                    "Male"
                  ],
                  "y": [
                    0.5521460286137149,
                    0.44785397138628513
                  ],
                  "type": "bar"
                },
                {
                  "name": "df_utk_2",
                  "x": [
                    "Male",
                    "Female"
                  ],
                  "y": [
                    0.5400765139497994,
                    0.4599234860502006
                  ],
                  "type": "bar"
                },
                {
                  "name": "df_utk_3",
                  "x": [
                    "Male",
                    "Female"
                  ],
                  "y": [
                    0.6935384615384615,
                    0.30646153846153845
                  ],
                  "type": "bar"
                }
              ],
              "layout": {
                "template": {
                  "data": {
                    "histogram2dcontour": [
                      {
                        "type": "histogram2dcontour",
                        "colorbar": {
                          "outlinewidth": 0,
                          "ticks": ""
                        },
                        "colorscale": [
                          [
                            0,
                            "#0d0887"
                          ],
                          [
                            0.1111111111111111,
                            "#46039f"
                          ],
                          [
                            0.2222222222222222,
                            "#7201a8"
                          ],
                          [
                            0.3333333333333333,
                            "#9c179e"
                          ],
                          [
                            0.4444444444444444,
                            "#bd3786"
                          ],
                          [
                            0.5555555555555556,
                            "#d8576b"
                          ],
                          [
                            0.6666666666666666,
                            "#ed7953"
                          ],
                          [
                            0.7777777777777778,
                            "#fb9f3a"
                          ],
                          [
                            0.8888888888888888,
                            "#fdca26"
                          ],
                          [
                            1,
                            "#f0f921"
                          ]
                        ]
                      }
                    ],
                    "choropleth": [
                      {
                        "type": "choropleth",
                        "colorbar": {
                          "outlinewidth": 0,
                          "ticks": ""
                        }
                      }
                    ],
                    "histogram2d": [
                      {
                        "type": "histogram2d",
                        "colorbar": {
                          "outlinewidth": 0,
                          "ticks": ""
                        },
                        "colorscale": [
                          [
                            0,
                            "#0d0887"
                          ],
                          [
                            0.1111111111111111,
                            "#46039f"
                          ],
                          [
                            0.2222222222222222,
                            "#7201a8"
                          ],
                          [
                            0.3333333333333333,
                            "#9c179e"
                          ],
                          [
                            0.4444444444444444,
                            "#bd3786"
                          ],
                          [
                            0.5555555555555556,
                            "#d8576b"
                          ],
                          [
                            0.6666666666666666,
                            "#ed7953"
                          ],
                          [
                            0.7777777777777778,
                            "#fb9f3a"
                          ],
                          [
                            0.8888888888888888,
                            "#fdca26"
                          ],
                          [
                            1,
                            "#f0f921"
                          ]
                        ]
                      }
                    ],
                    "heatmap": [
                      {
                        "type": "heatmap",
                        "colorbar": {
                          "outlinewidth": 0,
                          "ticks": ""
                        },
                        "colorscale": [
                          [
                            0,
                            "#0d0887"
                          ],
                          [
                            0.1111111111111111,
                            "#46039f"
                          ],
                          [
                            0.2222222222222222,
                            "#7201a8"
                          ],
                          [
                            0.3333333333333333,
                            "#9c179e"
                          ],
                          [
                            0.4444444444444444,
                            "#bd3786"
                          ],
                          [
                            0.5555555555555556,
                            "#d8576b"
                          ],
                          [
                            0.6666666666666666,
                            "#ed7953"
                          ],
                          [
                            0.7777777777777778,
                            "#fb9f3a"
                          ],
                          [
                            0.8888888888888888,
                            "#fdca26"
                          ],
                          [
                            1,
                            "#f0f921"
                          ]
                        ]
                      }
                    ],
                    "heatmapgl": [
                      {
                        "type": "heatmapgl",
                        "colorbar": {
                          "outlinewidth": 0,
                          "ticks": ""
                        },
                        "colorscale": [
                          [
                            0,
                            "#0d0887"
                          ],
                          [
                            0.1111111111111111,
                            "#46039f"
                          ],
                          [
                            0.2222222222222222,
                            "#7201a8"
                          ],
                          [
                            0.3333333333333333,
                            "#9c179e"
                          ],
                          [
                            0.4444444444444444,
                            "#bd3786"
                          ],
                          [
                            0.5555555555555556,
                            "#d8576b"
                          ],
                          [
                            0.6666666666666666,
                            "#ed7953"
                          ],
                          [
                            0.7777777777777778,
                            "#fb9f3a"
                          ],
                          [
                            0.8888888888888888,
                            "#fdca26"
                          ],
                          [
                            1,
                            "#f0f921"
                          ]
                        ]
                      }
                    ],
                    "contourcarpet": [
                      {
                        "type": "contourcarpet",
                        "colorbar": {
                          "outlinewidth": 0,
                          "ticks": ""
                        }
                      }
                    ],
                    "contour": [
                      {
                        "type": "contour",
                        "colorbar": {
                          "outlinewidth": 0,
                          "ticks": ""
                        },
                        "colorscale": [
                          [
                            0,
                            "#0d0887"
                          ],
                          [
                            0.1111111111111111,
                            "#46039f"
                          ],
                          [
                            0.2222222222222222,
                            "#7201a8"
                          ],
                          [
                            0.3333333333333333,
                            "#9c179e"
                          ],
                          [
                            0.4444444444444444,
                            "#bd3786"
                          ],
                          [
                            0.5555555555555556,
                            "#d8576b"
                          ],
                          [
                            0.6666666666666666,
                            "#ed7953"
                          ],
                          [
                            0.7777777777777778,
                            "#fb9f3a"
                          ],
                          [
                            0.8888888888888888,
                            "#fdca26"
                          ],
                          [
                            1,
                            "#f0f921"
                          ]
                        ]
                      }
                    ],
                    "surface": [
                      {
                        "type": "surface",
                        "colorbar": {
                          "outlinewidth": 0,
                          "ticks": ""
                        },
                        "colorscale": [
                          [
                            0,
                            "#0d0887"
                          ],
                          [
                            0.1111111111111111,
                            "#46039f"
                          ],
                          [
                            0.2222222222222222,
                            "#7201a8"
                          ],
                          [
                            0.3333333333333333,
                            "#9c179e"
                          ],
                          [
                            0.4444444444444444,
                            "#bd3786"
                          ],
                          [
                            0.5555555555555556,
                            "#d8576b"
                          ],
                          [
                            0.6666666666666666,
                            "#ed7953"
                          ],
                          [
                            0.7777777777777778,
                            "#fb9f3a"
                          ],
                          [
                            0.8888888888888888,
                            "#fdca26"
                          ],
                          [
                            1,
                            "#f0f921"
                          ]
                        ]
                      }
                    ],
                    "mesh3d": [
                      {
                        "type": "mesh3d",
                        "colorbar": {
                          "outlinewidth": 0,
                          "ticks": ""
                        }
                      }
                    ],
                    "scatter": [
                      {
                        "fillpattern": {
                          "fillmode": "overlay",
                          "size": 10,
                          "solidity": 0.2
                        },
                        "type": "scatter"
                      }
                    ],
                    "parcoords": [
                      {
                        "type": "parcoords",
                        "line": {
                          "colorbar": {
                            "outlinewidth": 0,
                            "ticks": ""
                          }
                        }
                      }
                    ],
                    "scatterpolargl": [
                      {
                        "type": "scatterpolargl",
                        "marker": {
                          "colorbar": {
                            "outlinewidth": 0,
                            "ticks": ""
                          }
                        }
                      }
                    ],
                    "bar": [
                      {
                        "error_x": {
                          "color": "#2a3f5f"
                        },
                        "error_y": {
                          "color": "#2a3f5f"
                        },
                        "marker": {
                          "line": {
                            "color": "#E5ECF6",
                            "width": 0.5
                          },
                          "pattern": {
                            "fillmode": "overlay",
                            "size": 10,
                            "solidity": 0.2
                          }
                        },
                        "type": "bar"
                      }
                    ],
                    "scattergeo": [
                      {
                        "type": "scattergeo",
                        "marker": {
                          "colorbar": {
                            "outlinewidth": 0,
                            "ticks": ""
                          }
                        }
                      }
                    ],
                    "scatterpolar": [
                      {
                        "type": "scatterpolar",
                        "marker": {
                          "colorbar": {
                            "outlinewidth": 0,
                            "ticks": ""
                          }
                        }
                      }
                    ],
                    "histogram": [
                      {
                        "marker": {
                          "pattern": {
                            "fillmode": "overlay",
                            "size": 10,
                            "solidity": 0.2
                          }
                        },
                        "type": "histogram"
                      }
                    ],
                    "scattergl": [
                      {
                        "type": "scattergl",
                        "marker": {
                          "colorbar": {
                            "outlinewidth": 0,
                            "ticks": ""
                          }
                        }
                      }
                    ],
                    "scatter3d": [
                      {
                        "type": "scatter3d",
                        "line": {
                          "colorbar": {
                            "outlinewidth": 0,
                            "ticks": ""
                          }
                        },
                        "marker": {
                          "colorbar": {
                            "outlinewidth": 0,
                            "ticks": ""
                          }
                        }
                      }
                    ],
                    "scattermapbox": [
                      {
                        "type": "scattermapbox",
                        "marker": {
                          "colorbar": {
                            "outlinewidth": 0,
                            "ticks": ""
                          }
                        }
                      }
                    ],
                    "scatterternary": [
                      {
                        "type": "scatterternary",
                        "marker": {
                          "colorbar": {
                            "outlinewidth": 0,
                            "ticks": ""
                          }
                        }
                      }
                    ],
                    "scattercarpet": [
                      {
                        "type": "scattercarpet",
                        "marker": {
                          "colorbar": {
                            "outlinewidth": 0,
                            "ticks": ""
                          }
                        }
                      }
                    ],
                    "carpet": [
                      {
                        "aaxis": {
                          "endlinecolor": "#2a3f5f",
                          "gridcolor": "white",
                          "linecolor": "white",
                          "minorgridcolor": "white",
                          "startlinecolor": "#2a3f5f"
                        },
                        "baxis": {
                          "endlinecolor": "#2a3f5f",
                          "gridcolor": "white",
                          "linecolor": "white",
                          "minorgridcolor": "white",
                          "startlinecolor": "#2a3f5f"
                        },
                        "type": "carpet"
                      }
                    ],
                    "table": [
                      {
                        "cells": {
                          "fill": {
                            "color": "#EBF0F8"
                          },
                          "line": {
                            "color": "white"
                          }
                        },
                        "header": {
                          "fill": {
                            "color": "#C8D4E3"
                          },
                          "line": {
                            "color": "white"
                          }
                        },
                        "type": "table"
                      }
                    ],
                    "barpolar": [
                      {
                        "marker": {
                          "line": {
                            "color": "#E5ECF6",
                            "width": 0.5
                          },
                          "pattern": {
                            "fillmode": "overlay",
                            "size": 10,
                            "solidity": 0.2
                          }
                        },
                        "type": "barpolar"
                      }
                    ],
                    "pie": [
                      {
                        "automargin": true,
                        "type": "pie"
                      }
                    ]
                  },
                  "layout": {
                    "autotypenumbers": "strict",
                    "colorway": [
                      "#636efa",
                      "#EF553B",
                      "#00cc96",
                      "#ab63fa",
                      "#FFA15A",
                      "#19d3f3",
                      "#FF6692",
                      "#B6E880",
                      "#FF97FF",
                      "#FECB52"
                    ],
                    "font": {
                      "color": "#2a3f5f"
                    },
                    "hovermode": "closest",
                    "hoverlabel": {
                      "align": "left"
                    },
                    "paper_bgcolor": "white",
                    "plot_bgcolor": "#E5ECF6",
                    "polar": {
                      "bgcolor": "#E5ECF6",
                      "angularaxis": {
                        "gridcolor": "white",
                        "linecolor": "white",
                        "ticks": ""
                      },
                      "radialaxis": {
                        "gridcolor": "white",
                        "linecolor": "white",
                        "ticks": ""
                      }
                    },
                    "ternary": {
                      "bgcolor": "#E5ECF6",
                      "aaxis": {
                        "gridcolor": "white",
                        "linecolor": "white",
                        "ticks": ""
                      },
                      "baxis": {
                        "gridcolor": "white",
                        "linecolor": "white",
                        "ticks": ""
                      },
                      "caxis": {
                        "gridcolor": "white",
                        "linecolor": "white",
                        "ticks": ""
                      }
                    },
                    "coloraxis": {
                      "colorbar": {
                        "outlinewidth": 0,
                        "ticks": ""
                      }
                    },
                    "colorscale": {
                      "sequential": [
                        [
                          0,
                          "#0d0887"
                        ],
                        [
                          0.1111111111111111,
                          "#46039f"
                        ],
                        [
                          0.2222222222222222,
                          "#7201a8"
                        ],
                        [
                          0.3333333333333333,
                          "#9c179e"
                        ],
                        [
                          0.4444444444444444,
                          "#bd3786"
                        ],
                        [
                          0.5555555555555556,
                          "#d8576b"
                        ],
                        [
                          0.6666666666666666,
                          "#ed7953"
                        ],
                        [
                          0.7777777777777778,
                          "#fb9f3a"
                        ],
                        [
                          0.8888888888888888,
                          "#fdca26"
                        ],
                        [
                          1,
                          "#f0f921"
                        ]
                      ],
                      "sequentialminus": [
                        [
                          0,
                          "#0d0887"
                        ],
                        [
                          0.1111111111111111,
                          "#46039f"
                        ],
                        [
                          0.2222222222222222,
                          "#7201a8"
                        ],
                        [
                          0.3333333333333333,
                          "#9c179e"
                        ],
                        [
                          0.4444444444444444,
                          "#bd3786"
                        ],
                        [
                          0.5555555555555556,
                          "#d8576b"
                        ],
                        [
                          0.6666666666666666,
                          "#ed7953"
                        ],
                        [
                          0.7777777777777778,
                          "#fb9f3a"
                        ],
                        [
                          0.8888888888888888,
                          "#fdca26"
                        ],
                        [
                          1,
                          "#f0f921"
                        ]
                      ],
                      "diverging": [
                        [
                          0,
                          "#8e0152"
                        ],
                        [
                          0.1,
                          "#c51b7d"
                        ],
                        [
                          0.2,
                          "#de77ae"
                        ],
                        [
                          0.3,
                          "#f1b6da"
                        ],
                        [
                          0.4,
                          "#fde0ef"
                        ],
                        [
                          0.5,
                          "#f7f7f7"
                        ],
                        [
                          0.6,
                          "#e6f5d0"
                        ],
                        [
                          0.7,
                          "#b8e186"
                        ],
                        [
                          0.8,
                          "#7fbc41"
                        ],
                        [
                          0.9,
                          "#4d9221"
                        ],
                        [
                          1,
                          "#276419"
                        ]
                      ]
                    },
                    "xaxis": {
                      "gridcolor": "white",
                      "linecolor": "white",
                      "ticks": "",
                      "title": {
                        "standoff": 15
                      },
                      "zerolinecolor": "white",
                      "automargin": true,
                      "zerolinewidth": 2
                    },
                    "yaxis": {
                      "gridcolor": "white",
                      "linecolor": "white",
                      "ticks": "",
                      "title": {
                        "standoff": 15
                      },
                      "zerolinecolor": "white",
                      "automargin": true,
                      "zerolinewidth": 2
                    },
                    "scene": {
                      "xaxis": {
                        "backgroundcolor": "#E5ECF6",
                        "gridcolor": "white",
                        "linecolor": "white",
                        "showbackground": true,
                        "ticks": "",
                        "zerolinecolor": "white",
                        "gridwidth": 2
                      },
                      "yaxis": {
                        "backgroundcolor": "#E5ECF6",
                        "gridcolor": "white",
                        "linecolor": "white",
                        "showbackground": true,
                        "ticks": "",
                        "zerolinecolor": "white",
                        "gridwidth": 2
                      },
                      "zaxis": {
                        "backgroundcolor": "#E5ECF6",
                        "gridcolor": "white",
                        "linecolor": "white",
                        "showbackground": true,
                        "ticks": "",
                        "zerolinecolor": "white",
                        "gridwidth": 2
                      }
                    },
                    "shapedefaults": {
                      "line": {
                        "color": "#2a3f5f"
                      }
                    },
                    "annotationdefaults": {
                      "arrowcolor": "#2a3f5f",
                      "arrowhead": 0,
                      "arrowwidth": 1
                    },
                    "geo": {
                      "bgcolor": "white",
                      "landcolor": "#E5ECF6",
                      "subunitcolor": "white",
                      "showland": true,
                      "showlakes": true,
                      "lakecolor": "white"
                    },
                    "title": {
                      "x": 0.05
                    },
                    "mapbox": {
                      "style": "light"
                    }
                  }
                },
                "title": {
                  "text": "Gender ratios across chunks of the UTK dataset"
                },
                "barmode": "group"
              },
              "config": {
                "plotlyServerURL": "https://plot.ly"
              }
            },
            "image/png": "[encoded data removed]"
          },
          "metadata": {
            "image/png": {
              "width": 700,
              "height": 500
            }
          },
          "output_type": "display_data"
        },
        {
          "data": {
            "text/html": "<div>                            <div id=\"b1a21605-b3c4-468b-b6e5-7385decc4093\" class=\"plotly-graph-div\" style=\"height:525px; width:100%;\"></div>            <script type=\"text/javascript\">                require([\"plotly\"], function(Plotly) {                    window.PLOTLYENV=window.PLOTLYENV || {};                                    if (document.getElementById(\"b1a21605-b3c4-468b-b6e5-7385decc4093\")) {                    Plotly.newPlot(                        \"b1a21605-b3c4-468b-b6e5-7385decc4093\",                        [{\"name\":\"df_utk_1\",\"x\":[\"White\",\"Asian\",\"Indian\",\"Other\",\"Black\"],\"y\":[0.5324124321657622,0.16803157375431674,0.14731129748396646,0.11060680809077454,0.04163788850518007],\"type\":\"bar\"},{\"name\":\"df_utk_2\",\"x\":[\"White\",\"Black\",\"Asian\",\"Indian\",\"Other\"],\"y\":[0.3655873845292526,0.3616683773444061,0.16889054772790893,0.05225342913128674,0.051600261267145654],\"type\":\"bar\"},{\"name\":\"df_utk_3\",\"x\":[\"Indian\",\"White\",\"Black\",\"Asian\",\"Other\"],\"y\":[0.6073846153846154,0.27907692307692306,0.08,0.02246153846153846,0.011076923076923076],\"type\":\"bar\"}],                        {\"template\":{\"data\":{\"histogram2dcontour\":[{\"type\":\"histogram2dcontour\",\"colorbar\":{\"outlinewidth\":0,\"ticks\":\"\"},\"colorscale\":[[0.0,\"#0d0887\"],[0.1111111111111111,\"#46039f\"],[0.2222222222222222,\"#7201a8\"],[0.3333333333333333,\"#9c179e\"],[0.4444444444444444,\"#bd3786\"],[0.5555555555555556,\"#d8576b\"],[0.6666666666666666,\"#ed7953\"],[0.7777777777777778,\"#fb9f3a\"],[0.8888888888888888,\"#fdca26\"],[1.0,\"#f0f921\"]]}],\"choropleth\":[{\"type\":\"choropleth\",\"colorbar\":{\"outlinewidth\":0,\"ticks\":\"\"}}],\"histogram2d\":[{\"type\":\"histogram2d\",\"colorbar\":{\"outlinewidth\":0,\"ticks\":\"\"},\"colorscale\":[[0.0,\"#0d0887\"],[0.1111111111111111,\"#46039f\"],[0.2222222222222222,\"#7201a8\"],[0.3333333333333333,\"#9c179e\"],[0.4444444444444444,\"#bd3786\"],[0.5555555555555556,\"#d8576b\"],[0.6666666666666666,\"#ed7953\"],[0.7777777777777778,\"#fb9f3a\"],[0.8888888888888888,\"#fdca26\"],[1.0,\"#f0f921\"]]}],\"heatmap\":[{\"type\":\"heatmap\",\"colorbar\":{\"outlinewidth\":0,\"ticks\":\"\"},\"colorscale\":[[0.0,\"#0d0887\"],[0.1111111111111111,\"#46039f\"],[0.2222222222222222,\"#7201a8\"],[0.3333333333333333,\"#9c179e\"],[0.4444444444444444,\"#bd3786\"],[0.5555555555555556,\"#d8576b\"],[0.6666666666666666,\"#ed7953\"],[0.7777777777777778,\"#fb9f3a\"],[0.8888888888888888,\"#fdca26\"],[1.0,\"#f0f921\"]]}],\"heatmapgl\":[{\"type\":\"heatmapgl\",\"colorbar\":{\"outlinewidth\":0,\"ticks\":\"\"},\"colorscale\":[[0.0,\"#0d0887\"],[0.1111111111111111,\"#46039f\"],[0.2222222222222222,\"#7201a8\"],[0.3333333333333333,\"#9c179e\"],[0.4444444444444444,\"#bd3786\"],[0.5555555555555556,\"#d8576b\"],[0.6666666666666666,\"#ed7953\"],[0.7777777777777778,\"#fb9f3a\"],[0.8888888888888888,\"#fdca26\"],[1.0,\"#f0f921\"]]}],\"contourcarpet\":[{\"type\":\"contourcarpet\",\"colorbar\":{\"outlinewidth\":0,\"ticks\":\"\"}}],\"contour\":[{\"type\":\"contour\",\"colorbar\":{\"outlinewidth\":0,\"ticks\":\"\"},\"colorscale\":[[0.0,\"#0d0887\"],[0.1111111111111111,\"#46039f\"],[0.2222222222222222,\"#7201a8\"],[0.3333333333333333,\"#9c179e\"],[0.4444444444444444,\"#bd3786\"],[0.5555555555555556,\"#d8576b\"],[0.6666666666666666,\"#ed7953\"],[0.7777777777777778,\"#fb9f3a\"],[0.8888888888888888,\"#fdca26\"],[1.0,\"#f0f921\"]]}],\"surface\":[{\"type\":\"surface\",\"colorbar\":{\"outlinewidth\":0,\"ticks\":\"\"},\"colorscale\":[[0.0,\"#0d0887\"],[0.1111111111111111,\"#46039f\"],[0.2222222222222222,\"#7201a8\"],[0.3333333333333333,\"#9c179e\"],[0.4444444444444444,\"#bd3786\"],[0.5555555555555556,\"#d8576b\"],[0.6666666666666666,\"#ed7953\"],[0.7777777777777778,\"#fb9f3a\"],[0.8888888888888888,\"#fdca26\"],[1.0,\"#f0f921\"]]}],\"mesh3d\":[{\"type\":\"mesh3d\",\"colorbar\":{\"outlinewidth\":0,\"ticks\":\"\"}}],\"scatter\":[{\"fillpattern\":{\"fillmode\":\"overlay\",\"size\":10,\"solidity\":0.2},\"type\":\"scatter\"}],\"parcoords\":[{\"type\":\"parcoords\",\"line\":{\"colorbar\":{\"outlinewidth\":0,\"ticks\":\"\"}}}],\"scatterpolargl\":[{\"type\":\"scatterpolargl\",\"marker\":{\"colorbar\":{\"outlinewidth\":0,\"ticks\":\"\"}}}],\"bar\":[{\"error_x\":{\"color\":\"#2a3f5f\"},\"error_y\":{\"color\":\"#2a3f5f\"},\"marker\":{\"line\":{\"color\":\"#E5ECF6\",\"width\":0.5},\"pattern\":{\"fillmode\":\"overlay\",\"size\":10,\"solidity\":0.2}},\"type\":\"bar\"}],\"scattergeo\":[{\"type\":\"scattergeo\",\"marker\":{\"colorbar\":{\"outlinewidth\":0,\"ticks\":\"\"}}}],\"scatterpolar\":[{\"type\":\"scatterpolar\",\"marker\":{\"colorbar\":{\"outlinewidth\":0,\"ticks\":\"\"}}}],\"histogram\":[{\"marker\":{\"pattern\":{\"fillmode\":\"overlay\",\"size\":10,\"solidity\":0.2}},\"type\":\"histogram\"}],\"scattergl\":[{\"type\":\"scattergl\",\"marker\":{\"colorbar\":{\"outlinewidth\":0,\"ticks\":\"\"}}}],\"scatter3d\":[{\"type\":\"scatter3d\",\"line\":{\"colorbar\":{\"outlinewidth\":0,\"ticks\":\"\"}},\"marker\":{\"colorbar\":{\"outlinewidth\":0,\"ticks\":\"\"}}}],\"scattermapbox\":[{\"type\":\"scattermapbox\",\"marker\":{\"colorbar\":{\"outlinewidth\":0,\"ticks\":\"\"}}}],\"scatterternary\":[{\"type\":\"scatterternary\",\"marker\":{\"colorbar\":{\"outlinewidth\":0,\"ticks\":\"\"}}}],\"scattercarpet\":[{\"type\":\"scattercarpet\",\"marker\":{\"colorbar\":{\"outlinewidth\":0,\"ticks\":\"\"}}}],\"carpet\":[{\"aaxis\":{\"endlinecolor\":\"#2a3f5f\",\"gridcolor\":\"white\",\"linecolor\":\"white\",\"minorgridcolor\":\"white\",\"startlinecolor\":\"#2a3f5f\"},\"baxis\":{\"endlinecolor\":\"#2a3f5f\",\"gridcolor\":\"white\",\"linecolor\":\"white\",\"minorgridcolor\":\"white\",\"startlinecolor\":\"#2a3f5f\"},\"type\":\"carpet\"}],\"table\":[{\"cells\":{\"fill\":{\"color\":\"#EBF0F8\"},\"line\":{\"color\":\"white\"}},\"header\":{\"fill\":{\"color\":\"#C8D4E3\"},\"line\":{\"color\":\"white\"}},\"type\":\"table\"}],\"barpolar\":[{\"marker\":{\"line\":{\"color\":\"#E5ECF6\",\"width\":0.5},\"pattern\":{\"fillmode\":\"overlay\",\"size\":10,\"solidity\":0.2}},\"type\":\"barpolar\"}],\"pie\":[{\"automargin\":true,\"type\":\"pie\"}]},\"layout\":{\"autotypenumbers\":\"strict\",\"colorway\":[\"#636efa\",\"#EF553B\",\"#00cc96\",\"#ab63fa\",\"#FFA15A\",\"#19d3f3\",\"#FF6692\",\"#B6E880\",\"#FF97FF\",\"#FECB52\"],\"font\":{\"color\":\"#2a3f5f\"},\"hovermode\":\"closest\",\"hoverlabel\":{\"align\":\"left\"},\"paper_bgcolor\":\"white\",\"plot_bgcolor\":\"#E5ECF6\",\"polar\":{\"bgcolor\":\"#E5ECF6\",\"angularaxis\":{\"gridcolor\":\"white\",\"linecolor\":\"white\",\"ticks\":\"\"},\"radialaxis\":{\"gridcolor\":\"white\",\"linecolor\":\"white\",\"ticks\":\"\"}},\"ternary\":{\"bgcolor\":\"#E5ECF6\",\"aaxis\":{\"gridcolor\":\"white\",\"linecolor\":\"white\",\"ticks\":\"\"},\"baxis\":{\"gridcolor\":\"white\",\"linecolor\":\"white\",\"ticks\":\"\"},\"caxis\":{\"gridcolor\":\"white\",\"linecolor\":\"white\",\"ticks\":\"\"}},\"coloraxis\":{\"colorbar\":{\"outlinewidth\":0,\"ticks\":\"\"}},\"colorscale\":{\"sequential\":[[0.0,\"#0d0887\"],[0.1111111111111111,\"#46039f\"],[0.2222222222222222,\"#7201a8\"],[0.3333333333333333,\"#9c179e\"],[0.4444444444444444,\"#bd3786\"],[0.5555555555555556,\"#d8576b\"],[0.6666666666666666,\"#ed7953\"],[0.7777777777777778,\"#fb9f3a\"],[0.8888888888888888,\"#fdca26\"],[1.0,\"#f0f921\"]],\"sequentialminus\":[[0.0,\"#0d0887\"],[0.1111111111111111,\"#46039f\"],[0.2222222222222222,\"#7201a8\"],[0.3333333333333333,\"#9c179e\"],[0.4444444444444444,\"#bd3786\"],[0.5555555555555556,\"#d8576b\"],[0.6666666666666666,\"#ed7953\"],[0.7777777777777778,\"#fb9f3a\"],[0.8888888888888888,\"#fdca26\"],[1.0,\"#f0f921\"]],\"diverging\":[[0,\"#8e0152\"],[0.1,\"#c51b7d\"],[0.2,\"#de77ae\"],[0.3,\"#f1b6da\"],[0.4,\"#fde0ef\"],[0.5,\"#f7f7f7\"],[0.6,\"#e6f5d0\"],[0.7,\"#b8e186\"],[0.8,\"#7fbc41\"],[0.9,\"#4d9221\"],[1,\"#276419\"]]},\"xaxis\":{\"gridcolor\":\"white\",\"linecolor\":\"white\",\"ticks\":\"\",\"title\":{\"standoff\":15},\"zerolinecolor\":\"white\",\"automargin\":true,\"zerolinewidth\":2},\"yaxis\":{\"gridcolor\":\"white\",\"linecolor\":\"white\",\"ticks\":\"\",\"title\":{\"standoff\":15},\"zerolinecolor\":\"white\",\"automargin\":true,\"zerolinewidth\":2},\"scene\":{\"xaxis\":{\"backgroundcolor\":\"#E5ECF6\",\"gridcolor\":\"white\",\"linecolor\":\"white\",\"showbackground\":true,\"ticks\":\"\",\"zerolinecolor\":\"white\",\"gridwidth\":2},\"yaxis\":{\"backgroundcolor\":\"#E5ECF6\",\"gridcolor\":\"white\",\"linecolor\":\"white\",\"showbackground\":true,\"ticks\":\"\",\"zerolinecolor\":\"white\",\"gridwidth\":2},\"zaxis\":{\"backgroundcolor\":\"#E5ECF6\",\"gridcolor\":\"white\",\"linecolor\":\"white\",\"showbackground\":true,\"ticks\":\"\",\"zerolinecolor\":\"white\",\"gridwidth\":2}},\"shapedefaults\":{\"line\":{\"color\":\"#2a3f5f\"}},\"annotationdefaults\":{\"arrowcolor\":\"#2a3f5f\",\"arrowhead\":0,\"arrowwidth\":1},\"geo\":{\"bgcolor\":\"white\",\"landcolor\":\"#E5ECF6\",\"subunitcolor\":\"white\",\"showland\":true,\"showlakes\":true,\"lakecolor\":\"white\"},\"title\":{\"x\":0.05},\"mapbox\":{\"style\":\"light\"}}},\"title\":{\"text\":\"Race ratios across chunks of the UTK dataset\"},\"barmode\":\"group\"},                        {\"responsive\": true}                    ).then(function(){\n                            \nvar gd = document.getElementById('b1a21605-b3c4-468b-b6e5-7385decc4093');\nvar x = new MutationObserver(function (mutations, observer) {{\n        var display = window.getComputedStyle(gd).display;\n        if (!display || display === 'none') {{\n            console.log([gd, 'removed!']);\n            Plotly.purge(gd);\n            observer.disconnect();\n        }}\n}});\n\n// Listen for the removal of the full notebook cells\nvar notebookContainer = gd.closest('#notebook-container');\nif (notebookContainer) {{\n    x.observe(notebookContainer, {childList: true});\n}}\n\n// Listen for the clearing of the current output cell\nvar outputEl = gd.closest('.output');\nif (outputEl) {{\n    x.observe(outputEl, {childList: true});\n}}\n\n                        })                };                });            </script>        </div>",
            "application/vnd.plotly.v1+json": {
              "data": [
                {
                  "name": "df_utk_1",
                  "x": [
                    "White",
                    "Asian",
                    "Indian",
                    "Other",
                    "Black"
                  ],
                  "y": [
                    0.5324124321657622,
                    0.16803157375431674,
                    0.14731129748396646,
                    0.11060680809077454,
                    0.04163788850518007
                  ],
                  "type": "bar"
                },
                {
                  "name": "df_utk_2",
                  "x": [
                    "White",
                    "Black",
                    "Asian",
                    "Indian",
                    "Other"
                  ],
                  "y": [
                    0.3655873845292526,
                    0.3616683773444061,
                    0.16889054772790893,
                    0.05225342913128674,
                    0.051600261267145654
                  ],
                  "type": "bar"
                },
                {
                  "name": "df_utk_3",
                  "x": [
                    "Indian",
                    "White",
                    "Black",
                    "Asian",
                    "Other"
                  ],
                  "y": [
                    0.6073846153846154,
                    0.27907692307692306,
                    0.08,
                    0.02246153846153846,
                    0.011076923076923076
                  ],
                  "type": "bar"
                }
              ],
              "layout": {
                "template": {
                  "data": {
                    "histogram2dcontour": [
                      {
                        "type": "histogram2dcontour",
                        "colorbar": {
                          "outlinewidth": 0,
                          "ticks": ""
                        },
                        "colorscale": [
                          [
                            0,
                            "#0d0887"
                          ],
                          [
                            0.1111111111111111,
                            "#46039f"
                          ],
                          [
                            0.2222222222222222,
                            "#7201a8"
                          ],
                          [
                            0.3333333333333333,
                            "#9c179e"
                          ],
                          [
                            0.4444444444444444,
                            "#bd3786"
                          ],
                          [
                            0.5555555555555556,
                            "#d8576b"
                          ],
                          [
                            0.6666666666666666,
                            "#ed7953"
                          ],
                          [
                            0.7777777777777778,
                            "#fb9f3a"
                          ],
                          [
                            0.8888888888888888,
                            "#fdca26"
                          ],
                          [
                            1,
                            "#f0f921"
                          ]
                        ]
                      }
                    ],
                    "choropleth": [
                      {
                        "type": "choropleth",
                        "colorbar": {
                          "outlinewidth": 0,
                          "ticks": ""
                        }
                      }
                    ],
                    "histogram2d": [
                      {
                        "type": "histogram2d",
                        "colorbar": {
                          "outlinewidth": 0,
                          "ticks": ""
                        },
                        "colorscale": [
                          [
                            0,
                            "#0d0887"
                          ],
                          [
                            0.1111111111111111,
                            "#46039f"
                          ],
                          [
                            0.2222222222222222,
                            "#7201a8"
                          ],
                          [
                            0.3333333333333333,
                            "#9c179e"
                          ],
                          [
                            0.4444444444444444,
                            "#bd3786"
                          ],
                          [
                            0.5555555555555556,
                            "#d8576b"
                          ],
                          [
                            0.6666666666666666,
                            "#ed7953"
                          ],
                          [
                            0.7777777777777778,
                            "#fb9f3a"
                          ],
                          [
                            0.8888888888888888,
                            "#fdca26"
                          ],
                          [
                            1,
                            "#f0f921"
                          ]
                        ]
                      }
                    ],
                    "heatmap": [
                      {
                        "type": "heatmap",
                        "colorbar": {
                          "outlinewidth": 0,
                          "ticks": ""
                        },
                        "colorscale": [
                          [
                            0,
                            "#0d0887"
                          ],
                          [
                            0.1111111111111111,
                            "#46039f"
                          ],
                          [
                            0.2222222222222222,
                            "#7201a8"
                          ],
                          [
                            0.3333333333333333,
                            "#9c179e"
                          ],
                          [
                            0.4444444444444444,
                            "#bd3786"
                          ],
                          [
                            0.5555555555555556,
                            "#d8576b"
                          ],
                          [
                            0.6666666666666666,
                            "#ed7953"
                          ],
                          [
                            0.7777777777777778,
                            "#fb9f3a"
                          ],
                          [
                            0.8888888888888888,
                            "#fdca26"
                          ],
                          [
                            1,
                            "#f0f921"
                          ]
                        ]
                      }
                    ],
                    "heatmapgl": [
                      {
                        "type": "heatmapgl",
                        "colorbar": {
                          "outlinewidth": 0,
                          "ticks": ""
                        },
                        "colorscale": [
                          [
                            0,
                            "#0d0887"
                          ],
                          [
                            0.1111111111111111,
                            "#46039f"
                          ],
                          [
                            0.2222222222222222,
                            "#7201a8"
                          ],
                          [
                            0.3333333333333333,
                            "#9c179e"
                          ],
                          [
                            0.4444444444444444,
                            "#bd3786"
                          ],
                          [
                            0.5555555555555556,
                            "#d8576b"
                          ],
                          [
                            0.6666666666666666,
                            "#ed7953"
                          ],
                          [
                            0.7777777777777778,
                            "#fb9f3a"
                          ],
                          [
                            0.8888888888888888,
                            "#fdca26"
                          ],
                          [
                            1,
                            "#f0f921"
                          ]
                        ]
                      }
                    ],
                    "contourcarpet": [
                      {
                        "type": "contourcarpet",
                        "colorbar": {
                          "outlinewidth": 0,
                          "ticks": ""
                        }
                      }
                    ],
                    "contour": [
                      {
                        "type": "contour",
                        "colorbar": {
                          "outlinewidth": 0,
                          "ticks": ""
                        },
                        "colorscale": [
                          [
                            0,
                            "#0d0887"
                          ],
                          [
                            0.1111111111111111,
                            "#46039f"
                          ],
                          [
                            0.2222222222222222,
                            "#7201a8"
                          ],
                          [
                            0.3333333333333333,
                            "#9c179e"
                          ],
                          [
                            0.4444444444444444,
                            "#bd3786"
                          ],
                          [
                            0.5555555555555556,
                            "#d8576b"
                          ],
                          [
                            0.6666666666666666,
                            "#ed7953"
                          ],
                          [
                            0.7777777777777778,
                            "#fb9f3a"
                          ],
                          [
                            0.8888888888888888,
                            "#fdca26"
                          ],
                          [
                            1,
                            "#f0f921"
                          ]
                        ]
                      }
                    ],
                    "surface": [
                      {
                        "type": "surface",
                        "colorbar": {
                          "outlinewidth": 0,
                          "ticks": ""
                        },
                        "colorscale": [
                          [
                            0,
                            "#0d0887"
                          ],
                          [
                            0.1111111111111111,
                            "#46039f"
                          ],
                          [
                            0.2222222222222222,
                            "#7201a8"
                          ],
                          [
                            0.3333333333333333,
                            "#9c179e"
                          ],
                          [
                            0.4444444444444444,
                            "#bd3786"
                          ],
                          [
                            0.5555555555555556,
                            "#d8576b"
                          ],
                          [
                            0.6666666666666666,
                            "#ed7953"
                          ],
                          [
                            0.7777777777777778,
                            "#fb9f3a"
                          ],
                          [
                            0.8888888888888888,
                            "#fdca26"
                          ],
                          [
                            1,
                            "#f0f921"
                          ]
                        ]
                      }
                    ],
                    "mesh3d": [
                      {
                        "type": "mesh3d",
                        "colorbar": {
                          "outlinewidth": 0,
                          "ticks": ""
                        }
                      }
                    ],
                    "scatter": [
                      {
                        "fillpattern": {
                          "fillmode": "overlay",
                          "size": 10,
                          "solidity": 0.2
                        },
                        "type": "scatter"
                      }
                    ],
                    "parcoords": [
                      {
                        "type": "parcoords",
                        "line": {
                          "colorbar": {
                            "outlinewidth": 0,
                            "ticks": ""
                          }
                        }
                      }
                    ],
                    "scatterpolargl": [
                      {
                        "type": "scatterpolargl",
                        "marker": {
                          "colorbar": {
                            "outlinewidth": 0,
                            "ticks": ""
                          }
                        }
                      }
                    ],
                    "bar": [
                      {
                        "error_x": {
                          "color": "#2a3f5f"
                        },
                        "error_y": {
                          "color": "#2a3f5f"
                        },
                        "marker": {
                          "line": {
                            "color": "#E5ECF6",
                            "width": 0.5
                          },
                          "pattern": {
                            "fillmode": "overlay",
                            "size": 10,
                            "solidity": 0.2
                          }
                        },
                        "type": "bar"
                      }
                    ],
                    "scattergeo": [
                      {
                        "type": "scattergeo",
                        "marker": {
                          "colorbar": {
                            "outlinewidth": 0,
                            "ticks": ""
                          }
                        }
                      }
                    ],
                    "scatterpolar": [
                      {
                        "type": "scatterpolar",
                        "marker": {
                          "colorbar": {
                            "outlinewidth": 0,
                            "ticks": ""
                          }
                        }
                      }
                    ],
                    "histogram": [
                      {
                        "marker": {
                          "pattern": {
                            "fillmode": "overlay",
                            "size": 10,
                            "solidity": 0.2
                          }
                        },
                        "type": "histogram"
                      }
                    ],
                    "scattergl": [
                      {
                        "type": "scattergl",
                        "marker": {
                          "colorbar": {
                            "outlinewidth": 0,
                            "ticks": ""
                          }
                        }
                      }
                    ],
                    "scatter3d": [
                      {
                        "type": "scatter3d",
                        "line": {
                          "colorbar": {
                            "outlinewidth": 0,
                            "ticks": ""
                          }
                        },
                        "marker": {
                          "colorbar": {
                            "outlinewidth": 0,
                            "ticks": ""
                          }
                        }
                      }
                    ],
                    "scattermapbox": [
                      {
                        "type": "scattermapbox",
                        "marker": {
                          "colorbar": {
                            "outlinewidth": 0,
                            "ticks": ""
                          }
                        }
                      }
                    ],
                    "scatterternary": [
                      {
                        "type": "scatterternary",
                        "marker": {
                          "colorbar": {
                            "outlinewidth": 0,
                            "ticks": ""
                          }
                        }
                      }
                    ],
                    "scattercarpet": [
                      {
                        "type": "scattercarpet",
                        "marker": {
                          "colorbar": {
                            "outlinewidth": 0,
                            "ticks": ""
                          }
                        }
                      }
                    ],
                    "carpet": [
                      {
                        "aaxis": {
                          "endlinecolor": "#2a3f5f",
                          "gridcolor": "white",
                          "linecolor": "white",
                          "minorgridcolor": "white",
                          "startlinecolor": "#2a3f5f"
                        },
                        "baxis": {
                          "endlinecolor": "#2a3f5f",
                          "gridcolor": "white",
                          "linecolor": "white",
                          "minorgridcolor": "white",
                          "startlinecolor": "#2a3f5f"
                        },
                        "type": "carpet"
                      }
                    ],
                    "table": [
                      {
                        "cells": {
                          "fill": {
                            "color": "#EBF0F8"
                          },
                          "line": {
                            "color": "white"
                          }
                        },
                        "header": {
                          "fill": {
                            "color": "#C8D4E3"
                          },
                          "line": {
                            "color": "white"
                          }
                        },
                        "type": "table"
                      }
                    ],
                    "barpolar": [
                      {
                        "marker": {
                          "line": {
                            "color": "#E5ECF6",
                            "width": 0.5
                          },
                          "pattern": {
                            "fillmode": "overlay",
                            "size": 10,
                            "solidity": 0.2
                          }
                        },
                        "type": "barpolar"
                      }
                    ],
                    "pie": [
                      {
                        "automargin": true,
                        "type": "pie"
                      }
                    ]
                  },
                  "layout": {
                    "autotypenumbers": "strict",
                    "colorway": [
                      "#636efa",
                      "#EF553B",
                      "#00cc96",
                      "#ab63fa",
                      "#FFA15A",
                      "#19d3f3",
                      "#FF6692",
                      "#B6E880",
                      "#FF97FF",
                      "#FECB52"
                    ],
                    "font": {
                      "color": "#2a3f5f"
                    },
                    "hovermode": "closest",
                    "hoverlabel": {
                      "align": "left"
                    },
                    "paper_bgcolor": "white",
                    "plot_bgcolor": "#E5ECF6",
                    "polar": {
                      "bgcolor": "#E5ECF6",
                      "angularaxis": {
                        "gridcolor": "white",
                        "linecolor": "white",
                        "ticks": ""
                      },
                      "radialaxis": {
                        "gridcolor": "white",
                        "linecolor": "white",
                        "ticks": ""
                      }
                    },
                    "ternary": {
                      "bgcolor": "#E5ECF6",
                      "aaxis": {
                        "gridcolor": "white",
                        "linecolor": "white",
                        "ticks": ""
                      },
                      "baxis": {
                        "gridcolor": "white",
                        "linecolor": "white",
                        "ticks": ""
                      },
                      "caxis": {
                        "gridcolor": "white",
                        "linecolor": "white",
                        "ticks": ""
                      }
                    },
                    "coloraxis": {
                      "colorbar": {
                        "outlinewidth": 0,
                        "ticks": ""
                      }
                    },
                    "colorscale": {
                      "sequential": [
                        [
                          0,
                          "#0d0887"
                        ],
                        [
                          0.1111111111111111,
                          "#46039f"
                        ],
                        [
                          0.2222222222222222,
                          "#7201a8"
                        ],
                        [
                          0.3333333333333333,
                          "#9c179e"
                        ],
                        [
                          0.4444444444444444,
                          "#bd3786"
                        ],
                        [
                          0.5555555555555556,
                          "#d8576b"
                        ],
                        [
                          0.6666666666666666,
                          "#ed7953"
                        ],
                        [
                          0.7777777777777778,
                          "#fb9f3a"
                        ],
                        [
                          0.8888888888888888,
                          "#fdca26"
                        ],
                        [
                          1,
                          "#f0f921"
                        ]
                      ],
                      "sequentialminus": [
                        [
                          0,
                          "#0d0887"
                        ],
                        [
                          0.1111111111111111,
                          "#46039f"
                        ],
                        [
                          0.2222222222222222,
                          "#7201a8"
                        ],
                        [
                          0.3333333333333333,
                          "#9c179e"
                        ],
                        [
                          0.4444444444444444,
                          "#bd3786"
                        ],
                        [
                          0.5555555555555556,
                          "#d8576b"
                        ],
                        [
                          0.6666666666666666,
                          "#ed7953"
                        ],
                        [
                          0.7777777777777778,
                          "#fb9f3a"
                        ],
                        [
                          0.8888888888888888,
                          "#fdca26"
                        ],
                        [
                          1,
                          "#f0f921"
                        ]
                      ],
                      "diverging": [
                        [
                          0,
                          "#8e0152"
                        ],
                        [
                          0.1,
                          "#c51b7d"
                        ],
                        [
                          0.2,
                          "#de77ae"
                        ],
                        [
                          0.3,
                          "#f1b6da"
                        ],
                        [
                          0.4,
                          "#fde0ef"
                        ],
                        [
                          0.5,
                          "#f7f7f7"
                        ],
                        [
                          0.6,
                          "#e6f5d0"
                        ],
                        [
                          0.7,
                          "#b8e186"
                        ],
                        [
                          0.8,
                          "#7fbc41"
                        ],
                        [
                          0.9,
                          "#4d9221"
                        ],
                        [
                          1,
                          "#276419"
                        ]
                      ]
                    },
                    "xaxis": {
                      "gridcolor": "white",
                      "linecolor": "white",
                      "ticks": "",
                      "title": {
                        "standoff": 15
                      },
                      "zerolinecolor": "white",
                      "automargin": true,
                      "zerolinewidth": 2
                    },
                    "yaxis": {
                      "gridcolor": "white",
                      "linecolor": "white",
                      "ticks": "",
                      "title": {
                        "standoff": 15
                      },
                      "zerolinecolor": "white",
                      "automargin": true,
                      "zerolinewidth": 2
                    },
                    "scene": {
                      "xaxis": {
                        "backgroundcolor": "#E5ECF6",
                        "gridcolor": "white",
                        "linecolor": "white",
                        "showbackground": true,
                        "ticks": "",
                        "zerolinecolor": "white",
                        "gridwidth": 2
                      },
                      "yaxis": {
                        "backgroundcolor": "#E5ECF6",
                        "gridcolor": "white",
                        "linecolor": "white",
                        "showbackground": true,
                        "ticks": "",
                        "zerolinecolor": "white",
                        "gridwidth": 2
                      },
                      "zaxis": {
                        "backgroundcolor": "#E5ECF6",
                        "gridcolor": "white",
                        "linecolor": "white",
                        "showbackground": true,
                        "ticks": "",
                        "zerolinecolor": "white",
                        "gridwidth": 2
                      }
                    },
                    "shapedefaults": {
                      "line": {
                        "color": "#2a3f5f"
                      }
                    },
                    "annotationdefaults": {
                      "arrowcolor": "#2a3f5f",
                      "arrowhead": 0,
                      "arrowwidth": 1
                    },
                    "geo": {
                      "bgcolor": "white",
                      "landcolor": "#E5ECF6",
                      "subunitcolor": "white",
                      "showland": true,
                      "showlakes": true,
                      "lakecolor": "white"
                    },
                    "title": {
                      "x": 0.05
                    },
                    "mapbox": {
                      "style": "light"
                    }
                  }
                },
                "title": {
                  "text": "Race ratios across chunks of the UTK dataset"
                },
                "barmode": "group"
              },
              "config": {
                "plotlyServerURL": "https://plot.ly"
              }
            },
            "image/png": "[encoded data removed]"
          },
          "metadata": {
            "image/png": {
              "width": 700,
              "height": 500
            }
          },
          "output_type": "display_data"
        },
        {
          "data": {
            "text/html": "<div>                            <div id=\"90891f93-6b19-46ef-816f-5f09f660f79d\" class=\"plotly-graph-div\" style=\"height:525px; width:100%;\"></div>            <script type=\"text/javascript\">                require([\"plotly\"], function(Plotly) {                    window.PLOTLYENV=window.PLOTLYENV || {};                                    if (document.getElementById(\"90891f93-6b19-46ef-816f-5f09f660f79d\")) {                    Plotly.newPlot(                        \"90891f93-6b19-46ef-816f-5f09f660f79d\",                        [{\"name\":\"df_utk_1\",\"x\":[\"0-2\",\"20-29\",\"3-9\",\"10-19\",\"30-39\",\"50-59\",\"70-130\",\"40-49\",\"60-69\"],\"y\":[0.17710902812037493,0.1503700049333991,0.14030587074494327,0.1222496299950666,0.1024173655648742,0.09333991119881599,0.08169708929452393,0.06699555994079921,0.06551554020720277],\"type\":\"bar\"},{\"name\":\"df_utk_2\",\"x\":[\"20-29\",\"30-39\",\"40-49\",\"50-59\",\"60-69\",\"70-130\",\"10-19\",\"3-9\",\"0-2\"],\"y\":[0.43939535317719514,0.26826537277223106,0.10646636185499674,0.07810021461229821,0.042175982084538585,0.03209853503779043,0.02454044975272931,0.007371465895306522,0.0015862648129140618],\"type\":\"bar\"},{\"name\":\"df_utk_3\",\"x\":[\"20-29\",\"30-39\",\"50-59\",\"40-49\",\"70-130\",\"60-69\",\"10-19\",\"3-9\",\"0-2\"],\"y\":[0.3486153846153846,0.19415384615384615,0.16153846153846155,0.1316923076923077,0.07446153846153847,0.06676923076923078,0.016307692307692308,0.006153846153846154,0.0003076923076923077],\"type\":\"bar\"}],                        {\"template\":{\"data\":{\"histogram2dcontour\":[{\"type\":\"histogram2dcontour\",\"colorbar\":{\"outlinewidth\":0,\"ticks\":\"\"},\"colorscale\":[[0.0,\"#0d0887\"],[0.1111111111111111,\"#46039f\"],[0.2222222222222222,\"#7201a8\"],[0.3333333333333333,\"#9c179e\"],[0.4444444444444444,\"#bd3786\"],[0.5555555555555556,\"#d8576b\"],[0.6666666666666666,\"#ed7953\"],[0.7777777777777778,\"#fb9f3a\"],[0.8888888888888888,\"#fdca26\"],[1.0,\"#f0f921\"]]}],\"choropleth\":[{\"type\":\"choropleth\",\"colorbar\":{\"outlinewidth\":0,\"ticks\":\"\"}}],\"histogram2d\":[{\"type\":\"histogram2d\",\"colorbar\":{\"outlinewidth\":0,\"ticks\":\"\"},\"colorscale\":[[0.0,\"#0d0887\"],[0.1111111111111111,\"#46039f\"],[0.2222222222222222,\"#7201a8\"],[0.3333333333333333,\"#9c179e\"],[0.4444444444444444,\"#bd3786\"],[0.5555555555555556,\"#d8576b\"],[0.6666666666666666,\"#ed7953\"],[0.7777777777777778,\"#fb9f3a\"],[0.8888888888888888,\"#fdca26\"],[1.0,\"#f0f921\"]]}],\"heatmap\":[{\"type\":\"heatmap\",\"colorbar\":{\"outlinewidth\":0,\"ticks\":\"\"},\"colorscale\":[[0.0,\"#0d0887\"],[0.1111111111111111,\"#46039f\"],[0.2222222222222222,\"#7201a8\"],[0.3333333333333333,\"#9c179e\"],[0.4444444444444444,\"#bd3786\"],[0.5555555555555556,\"#d8576b\"],[0.6666666666666666,\"#ed7953\"],[0.7777777777777778,\"#fb9f3a\"],[0.8888888888888888,\"#fdca26\"],[1.0,\"#f0f921\"]]}],\"heatmapgl\":[{\"type\":\"heatmapgl\",\"colorbar\":{\"outlinewidth\":0,\"ticks\":\"\"},\"colorscale\":[[0.0,\"#0d0887\"],[0.1111111111111111,\"#46039f\"],[0.2222222222222222,\"#7201a8\"],[0.3333333333333333,\"#9c179e\"],[0.4444444444444444,\"#bd3786\"],[0.5555555555555556,\"#d8576b\"],[0.6666666666666666,\"#ed7953\"],[0.7777777777777778,\"#fb9f3a\"],[0.8888888888888888,\"#fdca26\"],[1.0,\"#f0f921\"]]}],\"contourcarpet\":[{\"type\":\"contourcarpet\",\"colorbar\":{\"outlinewidth\":0,\"ticks\":\"\"}}],\"contour\":[{\"type\":\"contour\",\"colorbar\":{\"outlinewidth\":0,\"ticks\":\"\"},\"colorscale\":[[0.0,\"#0d0887\"],[0.1111111111111111,\"#46039f\"],[0.2222222222222222,\"#7201a8\"],[0.3333333333333333,\"#9c179e\"],[0.4444444444444444,\"#bd3786\"],[0.5555555555555556,\"#d8576b\"],[0.6666666666666666,\"#ed7953\"],[0.7777777777777778,\"#fb9f3a\"],[0.8888888888888888,\"#fdca26\"],[1.0,\"#f0f921\"]]}],\"surface\":[{\"type\":\"surface\",\"colorbar\":{\"outlinewidth\":0,\"ticks\":\"\"},\"colorscale\":[[0.0,\"#0d0887\"],[0.1111111111111111,\"#46039f\"],[0.2222222222222222,\"#7201a8\"],[0.3333333333333333,\"#9c179e\"],[0.4444444444444444,\"#bd3786\"],[0.5555555555555556,\"#d8576b\"],[0.6666666666666666,\"#ed7953\"],[0.7777777777777778,\"#fb9f3a\"],[0.8888888888888888,\"#fdca26\"],[1.0,\"#f0f921\"]]}],\"mesh3d\":[{\"type\":\"mesh3d\",\"colorbar\":{\"outlinewidth\":0,\"ticks\":\"\"}}],\"scatter\":[{\"fillpattern\":{\"fillmode\":\"overlay\",\"size\":10,\"solidity\":0.2},\"type\":\"scatter\"}],\"parcoords\":[{\"type\":\"parcoords\",\"line\":{\"colorbar\":{\"outlinewidth\":0,\"ticks\":\"\"}}}],\"scatterpolargl\":[{\"type\":\"scatterpolargl\",\"marker\":{\"colorbar\":{\"outlinewidth\":0,\"ticks\":\"\"}}}],\"bar\":[{\"error_x\":{\"color\":\"#2a3f5f\"},\"error_y\":{\"color\":\"#2a3f5f\"},\"marker\":{\"line\":{\"color\":\"#E5ECF6\",\"width\":0.5},\"pattern\":{\"fillmode\":\"overlay\",\"size\":10,\"solidity\":0.2}},\"type\":\"bar\"}],\"scattergeo\":[{\"type\":\"scattergeo\",\"marker\":{\"colorbar\":{\"outlinewidth\":0,\"ticks\":\"\"}}}],\"scatterpolar\":[{\"type\":\"scatterpolar\",\"marker\":{\"colorbar\":{\"outlinewidth\":0,\"ticks\":\"\"}}}],\"histogram\":[{\"marker\":{\"pattern\":{\"fillmode\":\"overlay\",\"size\":10,\"solidity\":0.2}},\"type\":\"histogram\"}],\"scattergl\":[{\"type\":\"scattergl\",\"marker\":{\"colorbar\":{\"outlinewidth\":0,\"ticks\":\"\"}}}],\"scatter3d\":[{\"type\":\"scatter3d\",\"line\":{\"colorbar\":{\"outlinewidth\":0,\"ticks\":\"\"}},\"marker\":{\"colorbar\":{\"outlinewidth\":0,\"ticks\":\"\"}}}],\"scattermapbox\":[{\"type\":\"scattermapbox\",\"marker\":{\"colorbar\":{\"outlinewidth\":0,\"ticks\":\"\"}}}],\"scatterternary\":[{\"type\":\"scatterternary\",\"marker\":{\"colorbar\":{\"outlinewidth\":0,\"ticks\":\"\"}}}],\"scattercarpet\":[{\"type\":\"scattercarpet\",\"marker\":{\"colorbar\":{\"outlinewidth\":0,\"ticks\":\"\"}}}],\"carpet\":[{\"aaxis\":{\"endlinecolor\":\"#2a3f5f\",\"gridcolor\":\"white\",\"linecolor\":\"white\",\"minorgridcolor\":\"white\",\"startlinecolor\":\"#2a3f5f\"},\"baxis\":{\"endlinecolor\":\"#2a3f5f\",\"gridcolor\":\"white\",\"linecolor\":\"white\",\"minorgridcolor\":\"white\",\"startlinecolor\":\"#2a3f5f\"},\"type\":\"carpet\"}],\"table\":[{\"cells\":{\"fill\":{\"color\":\"#EBF0F8\"},\"line\":{\"color\":\"white\"}},\"header\":{\"fill\":{\"color\":\"#C8D4E3\"},\"line\":{\"color\":\"white\"}},\"type\":\"table\"}],\"barpolar\":[{\"marker\":{\"line\":{\"color\":\"#E5ECF6\",\"width\":0.5},\"pattern\":{\"fillmode\":\"overlay\",\"size\":10,\"solidity\":0.2}},\"type\":\"barpolar\"}],\"pie\":[{\"automargin\":true,\"type\":\"pie\"}]},\"layout\":{\"autotypenumbers\":\"strict\",\"colorway\":[\"#636efa\",\"#EF553B\",\"#00cc96\",\"#ab63fa\",\"#FFA15A\",\"#19d3f3\",\"#FF6692\",\"#B6E880\",\"#FF97FF\",\"#FECB52\"],\"font\":{\"color\":\"#2a3f5f\"},\"hovermode\":\"closest\",\"hoverlabel\":{\"align\":\"left\"},\"paper_bgcolor\":\"white\",\"plot_bgcolor\":\"#E5ECF6\",\"polar\":{\"bgcolor\":\"#E5ECF6\",\"angularaxis\":{\"gridcolor\":\"white\",\"linecolor\":\"white\",\"ticks\":\"\"},\"radialaxis\":{\"gridcolor\":\"white\",\"linecolor\":\"white\",\"ticks\":\"\"}},\"ternary\":{\"bgcolor\":\"#E5ECF6\",\"aaxis\":{\"gridcolor\":\"white\",\"linecolor\":\"white\",\"ticks\":\"\"},\"baxis\":{\"gridcolor\":\"white\",\"linecolor\":\"white\",\"ticks\":\"\"},\"caxis\":{\"gridcolor\":\"white\",\"linecolor\":\"white\",\"ticks\":\"\"}},\"coloraxis\":{\"colorbar\":{\"outlinewidth\":0,\"ticks\":\"\"}},\"colorscale\":{\"sequential\":[[0.0,\"#0d0887\"],[0.1111111111111111,\"#46039f\"],[0.2222222222222222,\"#7201a8\"],[0.3333333333333333,\"#9c179e\"],[0.4444444444444444,\"#bd3786\"],[0.5555555555555556,\"#d8576b\"],[0.6666666666666666,\"#ed7953\"],[0.7777777777777778,\"#fb9f3a\"],[0.8888888888888888,\"#fdca26\"],[1.0,\"#f0f921\"]],\"sequentialminus\":[[0.0,\"#0d0887\"],[0.1111111111111111,\"#46039f\"],[0.2222222222222222,\"#7201a8\"],[0.3333333333333333,\"#9c179e\"],[0.4444444444444444,\"#bd3786\"],[0.5555555555555556,\"#d8576b\"],[0.6666666666666666,\"#ed7953\"],[0.7777777777777778,\"#fb9f3a\"],[0.8888888888888888,\"#fdca26\"],[1.0,\"#f0f921\"]],\"diverging\":[[0,\"#8e0152\"],[0.1,\"#c51b7d\"],[0.2,\"#de77ae\"],[0.3,\"#f1b6da\"],[0.4,\"#fde0ef\"],[0.5,\"#f7f7f7\"],[0.6,\"#e6f5d0\"],[0.7,\"#b8e186\"],[0.8,\"#7fbc41\"],[0.9,\"#4d9221\"],[1,\"#276419\"]]},\"xaxis\":{\"gridcolor\":\"white\",\"linecolor\":\"white\",\"ticks\":\"\",\"title\":{\"standoff\":15},\"zerolinecolor\":\"white\",\"automargin\":true,\"zerolinewidth\":2},\"yaxis\":{\"gridcolor\":\"white\",\"linecolor\":\"white\",\"ticks\":\"\",\"title\":{\"standoff\":15},\"zerolinecolor\":\"white\",\"automargin\":true,\"zerolinewidth\":2},\"scene\":{\"xaxis\":{\"backgroundcolor\":\"#E5ECF6\",\"gridcolor\":\"white\",\"linecolor\":\"white\",\"showbackground\":true,\"ticks\":\"\",\"zerolinecolor\":\"white\",\"gridwidth\":2},\"yaxis\":{\"backgroundcolor\":\"#E5ECF6\",\"gridcolor\":\"white\",\"linecolor\":\"white\",\"showbackground\":true,\"ticks\":\"\",\"zerolinecolor\":\"white\",\"gridwidth\":2},\"zaxis\":{\"backgroundcolor\":\"#E5ECF6\",\"gridcolor\":\"white\",\"linecolor\":\"white\",\"showbackground\":true,\"ticks\":\"\",\"zerolinecolor\":\"white\",\"gridwidth\":2}},\"shapedefaults\":{\"line\":{\"color\":\"#2a3f5f\"}},\"annotationdefaults\":{\"arrowcolor\":\"#2a3f5f\",\"arrowhead\":0,\"arrowwidth\":1},\"geo\":{\"bgcolor\":\"white\",\"landcolor\":\"#E5ECF6\",\"subunitcolor\":\"white\",\"showland\":true,\"showlakes\":true,\"lakecolor\":\"white\"},\"title\":{\"x\":0.05},\"mapbox\":{\"style\":\"light\"}}},\"title\":{\"text\":\"Age ratios across chunks of the UTK dataset\"},\"barmode\":\"group\"},                        {\"responsive\": true}                    ).then(function(){\n                            \nvar gd = document.getElementById('90891f93-6b19-46ef-816f-5f09f660f79d');\nvar x = new MutationObserver(function (mutations, observer) {{\n        var display = window.getComputedStyle(gd).display;\n        if (!display || display === 'none') {{\n            console.log([gd, 'removed!']);\n            Plotly.purge(gd);\n            observer.disconnect();\n        }}\n}});\n\n// Listen for the removal of the full notebook cells\nvar notebookContainer = gd.closest('#notebook-container');\nif (notebookContainer) {{\n    x.observe(notebookContainer, {childList: true});\n}}\n\n// Listen for the clearing of the current output cell\nvar outputEl = gd.closest('.output');\nif (outputEl) {{\n    x.observe(outputEl, {childList: true});\n}}\n\n                        })                };                });            </script>        </div>",
            "application/vnd.plotly.v1+json": {
              "data": [
                {
                  "name": "df_utk_1",
                  "x": [
                    "0-2",
                    "20-29",
                    "3-9",
                    "10-19",
                    "30-39",
                    "50-59",
                    "70-130",
                    "40-49",
                    "60-69"
                  ],
                  "y": [
                    0.17710902812037493,
                    0.1503700049333991,
                    0.14030587074494327,
                    0.1222496299950666,
                    0.1024173655648742,
                    0.09333991119881599,
                    0.08169708929452393,
                    0.06699555994079921,
                    0.06551554020720277
                  ],
                  "type": "bar"
                },
                {
                  "name": "df_utk_2",
                  "x": [
                    "20-29",
                    "30-39",
                    "40-49",
                    "50-59",
                    "60-69",
                    "70-130",
                    "10-19",
                    "3-9",
                    "0-2"
                  ],
                  "y": [
                    0.43939535317719514,
                    0.26826537277223106,
                    0.10646636185499674,
                    0.07810021461229821,
                    0.042175982084538585,
                    0.03209853503779043,
                    0.02454044975272931,
                    0.007371465895306522,
                    0.0015862648129140618
                  ],
                  "type": "bar"
                },
                {
                  "name": "df_utk_3",
                  "x": [
                    "20-29",
                    "30-39",
                    "50-59",
                    "40-49",
                    "70-130",
                    "60-69",
                    "10-19",
                    "3-9",
                    "0-2"
                  ],
                  "y": [
                    0.3486153846153846,
                    0.19415384615384615,
                    0.16153846153846155,
                    0.1316923076923077,
                    0.07446153846153847,
                    0.06676923076923078,
                    0.016307692307692308,
                    0.006153846153846154,
                    0.0003076923076923077
                  ],
                  "type": "bar"
                }
              ],
              "layout": {
                "template": {
                  "data": {
                    "histogram2dcontour": [
                      {
                        "type": "histogram2dcontour",
                        "colorbar": {
                          "outlinewidth": 0,
                          "ticks": ""
                        },
                        "colorscale": [
                          [
                            0,
                            "#0d0887"
                          ],
                          [
                            0.1111111111111111,
                            "#46039f"
                          ],
                          [
                            0.2222222222222222,
                            "#7201a8"
                          ],
                          [
                            0.3333333333333333,
                            "#9c179e"
                          ],
                          [
                            0.4444444444444444,
                            "#bd3786"
                          ],
                          [
                            0.5555555555555556,
                            "#d8576b"
                          ],
                          [
                            0.6666666666666666,
                            "#ed7953"
                          ],
                          [
                            0.7777777777777778,
                            "#fb9f3a"
                          ],
                          [
                            0.8888888888888888,
                            "#fdca26"
                          ],
                          [
                            1,
                            "#f0f921"
                          ]
                        ]
                      }
                    ],
                    "choropleth": [
                      {
                        "type": "choropleth",
                        "colorbar": {
                          "outlinewidth": 0,
                          "ticks": ""
                        }
                      }
                    ],
                    "histogram2d": [
                      {
                        "type": "histogram2d",
                        "colorbar": {
                          "outlinewidth": 0,
                          "ticks": ""
                        },
                        "colorscale": [
                          [
                            0,
                            "#0d0887"
                          ],
                          [
                            0.1111111111111111,
                            "#46039f"
                          ],
                          [
                            0.2222222222222222,
                            "#7201a8"
                          ],
                          [
                            0.3333333333333333,
                            "#9c179e"
                          ],
                          [
                            0.4444444444444444,
                            "#bd3786"
                          ],
                          [
                            0.5555555555555556,
                            "#d8576b"
                          ],
                          [
                            0.6666666666666666,
                            "#ed7953"
                          ],
                          [
                            0.7777777777777778,
                            "#fb9f3a"
                          ],
                          [
                            0.8888888888888888,
                            "#fdca26"
                          ],
                          [
                            1,
                            "#f0f921"
                          ]
                        ]
                      }
                    ],
                    "heatmap": [
                      {
                        "type": "heatmap",
                        "colorbar": {
                          "outlinewidth": 0,
                          "ticks": ""
                        },
                        "colorscale": [
                          [
                            0,
                            "#0d0887"
                          ],
                          [
                            0.1111111111111111,
                            "#46039f"
                          ],
                          [
                            0.2222222222222222,
                            "#7201a8"
                          ],
                          [
                            0.3333333333333333,
                            "#9c179e"
                          ],
                          [
                            0.4444444444444444,
                            "#bd3786"
                          ],
                          [
                            0.5555555555555556,
                            "#d8576b"
                          ],
                          [
                            0.6666666666666666,
                            "#ed7953"
                          ],
                          [
                            0.7777777777777778,
                            "#fb9f3a"
                          ],
                          [
                            0.8888888888888888,
                            "#fdca26"
                          ],
                          [
                            1,
                            "#f0f921"
                          ]
                        ]
                      }
                    ],
                    "heatmapgl": [
                      {
                        "type": "heatmapgl",
                        "colorbar": {
                          "outlinewidth": 0,
                          "ticks": ""
                        },
                        "colorscale": [
                          [
                            0,
                            "#0d0887"
                          ],
                          [
                            0.1111111111111111,
                            "#46039f"
                          ],
                          [
                            0.2222222222222222,
                            "#7201a8"
                          ],
                          [
                            0.3333333333333333,
                            "#9c179e"
                          ],
                          [
                            0.4444444444444444,
                            "#bd3786"
                          ],
                          [
                            0.5555555555555556,
                            "#d8576b"
                          ],
                          [
                            0.6666666666666666,
                            "#ed7953"
                          ],
                          [
                            0.7777777777777778,
                            "#fb9f3a"
                          ],
                          [
                            0.8888888888888888,
                            "#fdca26"
                          ],
                          [
                            1,
                            "#f0f921"
                          ]
                        ]
                      }
                    ],
                    "contourcarpet": [
                      {
                        "type": "contourcarpet",
                        "colorbar": {
                          "outlinewidth": 0,
                          "ticks": ""
                        }
                      }
                    ],
                    "contour": [
                      {
                        "type": "contour",
                        "colorbar": {
                          "outlinewidth": 0,
                          "ticks": ""
                        },
                        "colorscale": [
                          [
                            0,
                            "#0d0887"
                          ],
                          [
                            0.1111111111111111,
                            "#46039f"
                          ],
                          [
                            0.2222222222222222,
                            "#7201a8"
                          ],
                          [
                            0.3333333333333333,
                            "#9c179e"
                          ],
                          [
                            0.4444444444444444,
                            "#bd3786"
                          ],
                          [
                            0.5555555555555556,
                            "#d8576b"
                          ],
                          [
                            0.6666666666666666,
                            "#ed7953"
                          ],
                          [
                            0.7777777777777778,
                            "#fb9f3a"
                          ],
                          [
                            0.8888888888888888,
                            "#fdca26"
                          ],
                          [
                            1,
                            "#f0f921"
                          ]
                        ]
                      }
                    ],
                    "surface": [
                      {
                        "type": "surface",
                        "colorbar": {
                          "outlinewidth": 0,
                          "ticks": ""
                        },
                        "colorscale": [
                          [
                            0,
                            "#0d0887"
                          ],
                          [
                            0.1111111111111111,
                            "#46039f"
                          ],
                          [
                            0.2222222222222222,
                            "#7201a8"
                          ],
                          [
                            0.3333333333333333,
                            "#9c179e"
                          ],
                          [
                            0.4444444444444444,
                            "#bd3786"
                          ],
                          [
                            0.5555555555555556,
                            "#d8576b"
                          ],
                          [
                            0.6666666666666666,
                            "#ed7953"
                          ],
                          [
                            0.7777777777777778,
                            "#fb9f3a"
                          ],
                          [
                            0.8888888888888888,
                            "#fdca26"
                          ],
                          [
                            1,
                            "#f0f921"
                          ]
                        ]
                      }
                    ],
                    "mesh3d": [
                      {
                        "type": "mesh3d",
                        "colorbar": {
                          "outlinewidth": 0,
                          "ticks": ""
                        }
                      }
                    ],
                    "scatter": [
                      {
                        "fillpattern": {
                          "fillmode": "overlay",
                          "size": 10,
                          "solidity": 0.2
                        },
                        "type": "scatter"
                      }
                    ],
                    "parcoords": [
                      {
                        "type": "parcoords",
                        "line": {
                          "colorbar": {
                            "outlinewidth": 0,
                            "ticks": ""
                          }
                        }
                      }
                    ],
                    "scatterpolargl": [
                      {
                        "type": "scatterpolargl",
                        "marker": {
                          "colorbar": {
                            "outlinewidth": 0,
                            "ticks": ""
                          }
                        }
                      }
                    ],
                    "bar": [
                      {
                        "error_x": {
                          "color": "#2a3f5f"
                        },
                        "error_y": {
                          "color": "#2a3f5f"
                        },
                        "marker": {
                          "line": {
                            "color": "#E5ECF6",
                            "width": 0.5
                          },
                          "pattern": {
                            "fillmode": "overlay",
                            "size": 10,
                            "solidity": 0.2
                          }
                        },
                        "type": "bar"
                      }
                    ],
                    "scattergeo": [
                      {
                        "type": "scattergeo",
                        "marker": {
                          "colorbar": {
                            "outlinewidth": 0,
                            "ticks": ""
                          }
                        }
                      }
                    ],
                    "scatterpolar": [
                      {
                        "type": "scatterpolar",
                        "marker": {
                          "colorbar": {
                            "outlinewidth": 0,
                            "ticks": ""
                          }
                        }
                      }
                    ],
                    "histogram": [
                      {
                        "marker": {
                          "pattern": {
                            "fillmode": "overlay",
                            "size": 10,
                            "solidity": 0.2
                          }
                        },
                        "type": "histogram"
                      }
                    ],
                    "scattergl": [
                      {
                        "type": "scattergl",
                        "marker": {
                          "colorbar": {
                            "outlinewidth": 0,
                            "ticks": ""
                          }
                        }
                      }
                    ],
                    "scatter3d": [
                      {
                        "type": "scatter3d",
                        "line": {
                          "colorbar": {
                            "outlinewidth": 0,
                            "ticks": ""
                          }
                        },
                        "marker": {
                          "colorbar": {
                            "outlinewidth": 0,
                            "ticks": ""
                          }
                        }
                      }
                    ],
                    "scattermapbox": [
                      {
                        "type": "scattermapbox",
                        "marker": {
                          "colorbar": {
                            "outlinewidth": 0,
                            "ticks": ""
                          }
                        }
                      }
                    ],
                    "scatterternary": [
                      {
                        "type": "scatterternary",
                        "marker": {
                          "colorbar": {
                            "outlinewidth": 0,
                            "ticks": ""
                          }
                        }
                      }
                    ],
                    "scattercarpet": [
                      {
                        "type": "scattercarpet",
                        "marker": {
                          "colorbar": {
                            "outlinewidth": 0,
                            "ticks": ""
                          }
                        }
                      }
                    ],
                    "carpet": [
                      {
                        "aaxis": {
                          "endlinecolor": "#2a3f5f",
                          "gridcolor": "white",
                          "linecolor": "white",
                          "minorgridcolor": "white",
                          "startlinecolor": "#2a3f5f"
                        },
                        "baxis": {
                          "endlinecolor": "#2a3f5f",
                          "gridcolor": "white",
                          "linecolor": "white",
                          "minorgridcolor": "white",
                          "startlinecolor": "#2a3f5f"
                        },
                        "type": "carpet"
                      }
                    ],
                    "table": [
                      {
                        "cells": {
                          "fill": {
                            "color": "#EBF0F8"
                          },
                          "line": {
                            "color": "white"
                          }
                        },
                        "header": {
                          "fill": {
                            "color": "#C8D4E3"
                          },
                          "line": {
                            "color": "white"
                          }
                        },
                        "type": "table"
                      }
                    ],
                    "barpolar": [
                      {
                        "marker": {
                          "line": {
                            "color": "#E5ECF6",
                            "width": 0.5
                          },
                          "pattern": {
                            "fillmode": "overlay",
                            "size": 10,
                            "solidity": 0.2
                          }
                        },
                        "type": "barpolar"
                      }
                    ],
                    "pie": [
                      {
                        "automargin": true,
                        "type": "pie"
                      }
                    ]
                  },
                  "layout": {
                    "autotypenumbers": "strict",
                    "colorway": [
                      "#636efa",
                      "#EF553B",
                      "#00cc96",
                      "#ab63fa",
                      "#FFA15A",
                      "#19d3f3",
                      "#FF6692",
                      "#B6E880",
                      "#FF97FF",
                      "#FECB52"
                    ],
                    "font": {
                      "color": "#2a3f5f"
                    },
                    "hovermode": "closest",
                    "hoverlabel": {
                      "align": "left"
                    },
                    "paper_bgcolor": "white",
                    "plot_bgcolor": "#E5ECF6",
                    "polar": {
                      "bgcolor": "#E5ECF6",
                      "angularaxis": {
                        "gridcolor": "white",
                        "linecolor": "white",
                        "ticks": ""
                      },
                      "radialaxis": {
                        "gridcolor": "white",
                        "linecolor": "white",
                        "ticks": ""
                      }
                    },
                    "ternary": {
                      "bgcolor": "#E5ECF6",
                      "aaxis": {
                        "gridcolor": "white",
                        "linecolor": "white",
                        "ticks": ""
                      },
                      "baxis": {
                        "gridcolor": "white",
                        "linecolor": "white",
                        "ticks": ""
                      },
                      "caxis": {
                        "gridcolor": "white",
                        "linecolor": "white",
                        "ticks": ""
                      }
                    },
                    "coloraxis": {
                      "colorbar": {
                        "outlinewidth": 0,
                        "ticks": ""
                      }
                    },
                    "colorscale": {
                      "sequential": [
                        [
                          0,
                          "#0d0887"
                        ],
                        [
                          0.1111111111111111,
                          "#46039f"
                        ],
                        [
                          0.2222222222222222,
                          "#7201a8"
                        ],
                        [
                          0.3333333333333333,
                          "#9c179e"
                        ],
                        [
                          0.4444444444444444,
                          "#bd3786"
                        ],
                        [
                          0.5555555555555556,
                          "#d8576b"
                        ],
                        [
                          0.6666666666666666,
                          "#ed7953"
                        ],
                        [
                          0.7777777777777778,
                          "#fb9f3a"
                        ],
                        [
                          0.8888888888888888,
                          "#fdca26"
                        ],
                        [
                          1,
                          "#f0f921"
                        ]
                      ],
                      "sequentialminus": [
                        [
                          0,
                          "#0d0887"
                        ],
                        [
                          0.1111111111111111,
                          "#46039f"
                        ],
                        [
                          0.2222222222222222,
                          "#7201a8"
                        ],
                        [
                          0.3333333333333333,
                          "#9c179e"
                        ],
                        [
                          0.4444444444444444,
                          "#bd3786"
                        ],
                        [
                          0.5555555555555556,
                          "#d8576b"
                        ],
                        [
                          0.6666666666666666,
                          "#ed7953"
                        ],
                        [
                          0.7777777777777778,
                          "#fb9f3a"
                        ],
                        [
                          0.8888888888888888,
                          "#fdca26"
                        ],
                        [
                          1,
                          "#f0f921"
                        ]
                      ],
                      "diverging": [
                        [
                          0,
                          "#8e0152"
                        ],
                        [
                          0.1,
                          "#c51b7d"
                        ],
                        [
                          0.2,
                          "#de77ae"
                        ],
                        [
                          0.3,
                          "#f1b6da"
                        ],
                        [
                          0.4,
                          "#fde0ef"
                        ],
                        [
                          0.5,
                          "#f7f7f7"
                        ],
                        [
                          0.6,
                          "#e6f5d0"
                        ],
                        [
                          0.7,
                          "#b8e186"
                        ],
                        [
                          0.8,
                          "#7fbc41"
                        ],
                        [
                          0.9,
                          "#4d9221"
                        ],
                        [
                          1,
                          "#276419"
                        ]
                      ]
                    },
                    "xaxis": {
                      "gridcolor": "white",
                      "linecolor": "white",
                      "ticks": "",
                      "title": {
                        "standoff": 15
                      },
                      "zerolinecolor": "white",
                      "automargin": true,
                      "zerolinewidth": 2
                    },
                    "yaxis": {
                      "gridcolor": "white",
                      "linecolor": "white",
                      "ticks": "",
                      "title": {
                        "standoff": 15
                      },
                      "zerolinecolor": "white",
                      "automargin": true,
                      "zerolinewidth": 2
                    },
                    "scene": {
                      "xaxis": {
                        "backgroundcolor": "#E5ECF6",
                        "gridcolor": "white",
                        "linecolor": "white",
                        "showbackground": true,
                        "ticks": "",
                        "zerolinecolor": "white",
                        "gridwidth": 2
                      },
                      "yaxis": {
                        "backgroundcolor": "#E5ECF6",
                        "gridcolor": "white",
                        "linecolor": "white",
                        "showbackground": true,
                        "ticks": "",
                        "zerolinecolor": "white",
                        "gridwidth": 2
                      },
                      "zaxis": {
                        "backgroundcolor": "#E5ECF6",
                        "gridcolor": "white",
                        "linecolor": "white",
                        "showbackground": true,
                        "ticks": "",
                        "zerolinecolor": "white",
                        "gridwidth": 2
                      }
                    },
                    "shapedefaults": {
                      "line": {
                        "color": "#2a3f5f"
                      }
                    },
                    "annotationdefaults": {
                      "arrowcolor": "#2a3f5f",
                      "arrowhead": 0,
                      "arrowwidth": 1
                    },
                    "geo": {
                      "bgcolor": "white",
                      "landcolor": "#E5ECF6",
                      "subunitcolor": "white",
                      "showland": true,
                      "showlakes": true,
                      "lakecolor": "white"
                    },
                    "title": {
                      "x": 0.05
                    },
                    "mapbox": {
                      "style": "light"
                    }
                  }
                },
                "title": {
                  "text": "Age ratios across chunks of the UTK dataset"
                },
                "barmode": "group"
              },
              "config": {
                "plotlyServerURL": "https://plot.ly"
              }
            },
            "image/png": "[encoded data removed]"
          },
          "metadata": {
            "image/png": {
              "width": 700,
              "height": 500
            }
          },
          "output_type": "display_data"
        }
      ],
      "execution_count": 21,
      "block_group": "fb3cbd6dc1c64219a8284a98812cfe30"
    },
    {
      "cell_type": "code",
      "source": "list(df_utk[\"src_gender\"].cat.categories)\nlist(df_utk[\"src_gender\"].value_counts())",
      "metadata": {
        "source_hash": null,
        "execution_start": 1694808637339,
        "execution_millis": 16,
        "deepnote_app_coordinates": {
          "h": 5,
          "w": 12,
          "x": 0,
          "y": 0
        },
        "deepnote_to_be_reexecuted": false,
        "cell_id": "b99a0ae67e5e418683a97c2d48523427",
        "deepnote_cell_type": "code"
      },
      "outputs": [
        {
          "output_type": "execute_result",
          "execution_count": 100,
          "data": {
            "text/plain": "[12581, 11521]"
          },
          "metadata": {}
        }
      ],
      "execution_count": null,
      "block_group": "4fb065dd6d8a4b8bb4e6e9c1c4d3bea7"
    },
    {
      "cell_type": "code",
      "source": "## PC\n\n#example code for looking chunk-by-chunk at vectorized groups (i.e. combination of gender-age-race comprises x% of dataset)\n#chunk1_df.value_counts(subset=['src_gender','src_race','src_age_grp'],normalize=True).to_frame()\n#chunk2_df.value_counts(subset=['src_gender','src_race','src_age_grp'],normalize=True).to_frame()\n#chunk3_df.value_counts(subset=['src_gender','src_race','src_age_grp'],normalize=True).to_frame()\n#all_chunks.value_counts(subset=['src_gender','src_race','src_age_grp'],normalize=True).to_frame()",
      "metadata": {
        "source_hash": null,
        "execution_start": 1694705853055,
        "execution_millis": 10,
        "deepnote_table_state": {
          "sortBy": [],
          "filters": [],
          "pageSize": 100,
          "pageIndex": 0
        },
        "deepnote_table_loading": false,
        "deepnote_app_coordinates": {
          "h": 5,
          "w": 12,
          "x": 0,
          "y": 0
        },
        "deepnote_to_be_reexecuted": false,
        "cell_id": "22dbed1c026f43289ef9a4119414a36c",
        "deepnote_cell_type": "code"
      },
      "outputs": [
        {
          "output_type": "execute_result",
          "execution_count": 47,
          "data": {
            "application/vnd.deepnote.dataframe.v3+json": {
              "column_count": 1,
              "row_count": 92,
              "columns": [
                {
                  "name": 0,
                  "dtype": "float64",
                  "stats": {
                    "unique_count": 71,
                    "nan_count": 0,
                    "min": "9.864851533984413e-05",
                    "max": "0.04527966854098846",
                    "histogram": [
                      {
                        "bin_start": 0.00009864851533984413,
                        "bin_end": 0.004616750517904705,
                        "count": 44
                      },
                      {
                        "bin_start": 0.004616750517904705,
                        "bin_end": 0.009134852520469566,
                        "count": 14
                      },
                      {
                        "bin_start": 0.009134852520469566,
                        "bin_end": 0.013652954523034427,
                        "count": 8
                      },
                      {
                        "bin_start": 0.013652954523034427,
                        "bin_end": 0.018171056525599288,
                        "count": 4
                      },
                      {
                        "bin_start": 0.018171056525599288,
                        "bin_end": 0.02268915852816415,
                        "count": 4
                      },
                      {
                        "bin_start": 0.02268915852816415,
                        "bin_end": 0.02720726053072901,
                        "count": 4
                      },
                      {
                        "bin_start": 0.02720726053072901,
                        "bin_end": 0.031725362533293874,
                        "count": 6
                      },
                      {
                        "bin_start": 0.031725362533293874,
                        "bin_end": 0.036243464535858735,
                        "count": 3
                      },
                      {
                        "bin_start": 0.036243464535858735,
                        "bin_end": 0.040761566538423596,
                        "count": 2
                      },
                      {
                        "bin_start": 0.040761566538423596,
                        "bin_end": 0.04527966854098846,
                        "count": 3
                      }
                    ]
                  }
                },
                {
                  "name": "_deepnote_index_column",
                  "dtype": "object"
                }
              ],
              "rows": [
                {
                  "0": 0.00009864851533984413,
                  "_deepnote_index_column": "('Female', '0', '60-69')"
                },
                {
                  "0": 0.00009864851533984413,
                  "_deepnote_index_column": "('0', '0', '60-69')"
                }
              ]
            },
            "text/plain": "                                        0\nsrc_gender src_race src_age_grp          \nFemale     White    10-19        0.045280\nMale       Asian    0-2          0.043899\n           White    50-59        0.043701\nFemale     White    3-9          0.037980\nMale       White    10-19        0.037684\n...                                   ...\nFemale     Other    60-69        0.000296\n                    70-130       0.000296\nMale       Other    70-130       0.000197\nFemale     0        60-69        0.000099\n0          0        60-69        0.000099\n\n[92 rows x 1 columns]",
            "text/html": "<div>\n<style scoped>\n    .dataframe tbody tr th:only-of-type {\n        vertical-align: middle;\n    }\n\n    .dataframe tbody tr th {\n        vertical-align: top;\n    }\n\n    .dataframe thead th {\n        text-align: right;\n    }\n</style>\n<table border=\"1\" class=\"dataframe\">\n  <thead>\n    <tr style=\"text-align: right;\">\n      <th></th>\n      <th></th>\n      <th></th>\n      <th>0</th>\n    </tr>\n    <tr>\n      <th>src_gender</th>\n      <th>src_race</th>\n      <th>src_age_grp</th>\n      <th></th>\n    </tr>\n  </thead>\n  <tbody>\n    <tr>\n      <th>Female</th>\n      <th>White</th>\n      <th>10-19</th>\n      <td>0.045280</td>\n    </tr>\n    <tr>\n      <th rowspan=\"2\" valign=\"top\">Male</th>\n      <th>Asian</th>\n      <th>0-2</th>\n      <td>0.043899</td>\n    </tr>\n    <tr>\n      <th>White</th>\n      <th>50-59</th>\n      <td>0.043701</td>\n    </tr>\n    <tr>\n      <th>Female</th>\n      <th>White</th>\n      <th>3-9</th>\n      <td>0.037980</td>\n    </tr>\n    <tr>\n      <th>Male</th>\n      <th>White</th>\n      <th>10-19</th>\n      <td>0.037684</td>\n    </tr>\n    <tr>\n      <th>...</th>\n      <th>...</th>\n      <th>...</th>\n      <td>...</td>\n    </tr>\n    <tr>\n      <th rowspan=\"2\" valign=\"top\">Female</th>\n      <th rowspan=\"2\" valign=\"top\">Other</th>\n      <th>60-69</th>\n      <td>0.000296</td>\n    </tr>\n    <tr>\n      <th>70-130</th>\n      <td>0.000296</td>\n    </tr>\n    <tr>\n      <th>Male</th>\n      <th>Other</th>\n      <th>70-130</th>\n      <td>0.000197</td>\n    </tr>\n    <tr>\n      <th>Female</th>\n      <th>0</th>\n      <th>60-69</th>\n      <td>0.000099</td>\n    </tr>\n    <tr>\n      <th>0</th>\n      <th>0</th>\n      <th>60-69</th>\n      <td>0.000099</td>\n    </tr>\n  </tbody>\n</table>\n<p>92 rows × 1 columns</p>\n</div>"
          },
          "metadata": {}
        }
      ],
      "execution_count": null,
      "block_group": "b131052c83e840d08279d2bdb77a798f"
    },
    {
      "cell_type": "code",
      "source": "## PC\n\n#relative frequency of gender for the entire dataset\n#not sure why, currently, it is returning row(s?) where there is no gender - we probably need to fix this.\n\n# Note: all plots need titles, definitive legends, etc.\n#Grace Cooper mentioned a desire to potentially chunk these into pie charts.\n(\n    all_chunks\n        .value_counts(subset=['src_gender'],normalize=True)\n        .to_frame()\n        .plot(\n            kind='barh'\n        )\n)",
      "metadata": {
        "source_hash": null,
        "execution_start": 1694705853102,
        "execution_millis": 1225,
        "deepnote_app_coordinates": {
          "h": 5,
          "w": 12,
          "x": 0,
          "y": 0
        },
        "deepnote_to_be_reexecuted": false,
        "cell_id": "e506ad5040384cd6b723e52dd1721243",
        "deepnote_cell_type": "code"
      },
      "outputs": [
        {
          "output_type": "execute_result",
          "execution_count": 4,
          "data": {
            "text/plain": "<AxesSubplot: ylabel='src_gender'>"
          },
          "metadata": {}
        },
        {
          "data": {
            "text/plain": "<Figure size 640x480 with 1 Axes>",
            "image/png": "[encoded data removed]"
          },
          "metadata": {
            "image/png": {
              "width": 610,
              "height": 413
            }
          },
          "output_type": "display_data"
        }
      ],
      "execution_count": null,
      "block_group": "f87f5d2d486d41c5a46d675eb00dfcaf"
    },
    {
      "cell_type": "code",
      "source": "## PC\n\n#relative frequency of age group for the entire dataset\n(\n    all_chunks\n        .value_counts(subset=['src_age_grp'],normalize=True)\n        .to_frame()\n        .plot(\n            kind='barh'\n        )\n)",
      "metadata": {
        "source_hash": null,
        "execution_start": 1694705854412,
        "execution_millis": 836,
        "deepnote_app_coordinates": {
          "h": 5,
          "w": 12,
          "x": 0,
          "y": 0
        },
        "deepnote_to_be_reexecuted": false,
        "cell_id": "88a9968f6ecd425b9e4d288a6994884e",
        "deepnote_cell_type": "code"
      },
      "outputs": [
        {
          "output_type": "error",
          "ename": "ValueError",
          "evalue": "pie requires either y column or 'subplots=True'",
          "traceback": [
            "\u001b[0;31m---------------------------------------------------------------------------\u001b[0m",
            "\u001b[0;31mValueError\u001b[0m                                Traceback (most recent call last)",
            "Cell \u001b[0;32mIn [5], line 3\u001b[0m\n\u001b[1;32m      1\u001b[0m \u001b[38;5;66;03m#relative frequency of age group for the entire dataset\u001b[39;00m\n\u001b[1;32m      2\u001b[0m (\n\u001b[0;32m----> 3\u001b[0m     \u001b[43mall_chunks\u001b[49m\n\u001b[1;32m      4\u001b[0m \u001b[43m        \u001b[49m\u001b[38;5;241;43m.\u001b[39;49m\u001b[43mvalue_counts\u001b[49m\u001b[43m(\u001b[49m\u001b[43msubset\u001b[49m\u001b[38;5;241;43m=\u001b[39;49m\u001b[43m[\u001b[49m\u001b[38;5;124;43m'\u001b[39;49m\u001b[38;5;124;43msrc_age_grp\u001b[39;49m\u001b[38;5;124;43m'\u001b[39;49m\u001b[43m]\u001b[49m\u001b[43m,\u001b[49m\u001b[43mnormalize\u001b[49m\u001b[38;5;241;43m=\u001b[39;49m\u001b[38;5;28;43;01mTrue\u001b[39;49;00m\u001b[43m)\u001b[49m\n\u001b[1;32m      5\u001b[0m \u001b[43m        \u001b[49m\u001b[38;5;241;43m.\u001b[39;49m\u001b[43mto_frame\u001b[49m\u001b[43m(\u001b[49m\u001b[43m)\u001b[49m\n\u001b[1;32m      6\u001b[0m \u001b[43m        \u001b[49m\u001b[38;5;241;43m.\u001b[39;49m\u001b[43mplot\u001b[49m\u001b[43m(\u001b[49m\n\u001b[1;32m      7\u001b[0m \u001b[43m            \u001b[49m\u001b[43mkind\u001b[49m\u001b[38;5;241;43m=\u001b[39;49m\u001b[38;5;124;43m'\u001b[39;49m\u001b[38;5;124;43mpie\u001b[39;49m\u001b[38;5;124;43m'\u001b[39;49m\n\u001b[1;32m      8\u001b[0m \u001b[43m        \u001b[49m\u001b[43m)\u001b[49m\n\u001b[1;32m      9\u001b[0m )\n",
            "File \u001b[0;32m/shared-libs/python3.10/py/lib/python3.10/site-packages/pandas/plotting/_core.py:906\u001b[0m, in \u001b[0;36mPlotAccessor.__call__\u001b[0;34m(self, *args, **kwargs)\u001b[0m\n\u001b[1;32m    904\u001b[0m \u001b[38;5;28;01mif\u001b[39;00m \u001b[38;5;28misinstance\u001b[39m(data, ABCDataFrame):\n\u001b[1;32m    905\u001b[0m     \u001b[38;5;28;01mif\u001b[39;00m y \u001b[38;5;129;01mis\u001b[39;00m \u001b[38;5;28;01mNone\u001b[39;00m \u001b[38;5;129;01mand\u001b[39;00m kwargs\u001b[38;5;241m.\u001b[39mget(\u001b[38;5;124m\"\u001b[39m\u001b[38;5;124msubplots\u001b[39m\u001b[38;5;124m\"\u001b[39m) \u001b[38;5;129;01mis\u001b[39;00m \u001b[38;5;28;01mFalse\u001b[39;00m:\n\u001b[0;32m--> 906\u001b[0m         \u001b[38;5;28;01mraise\u001b[39;00m \u001b[38;5;167;01mValueError\u001b[39;00m(\n\u001b[1;32m    907\u001b[0m             \u001b[38;5;124mf\u001b[39m\u001b[38;5;124m\"\u001b[39m\u001b[38;5;132;01m{\u001b[39;00mkind\u001b[38;5;132;01m}\u001b[39;00m\u001b[38;5;124m requires either y column or \u001b[39m\u001b[38;5;124m'\u001b[39m\u001b[38;5;124msubplots=True\u001b[39m\u001b[38;5;124m'\u001b[39m\u001b[38;5;124m\"\u001b[39m\n\u001b[1;32m    908\u001b[0m         )\n\u001b[1;32m    909\u001b[0m     \u001b[38;5;28;01melif\u001b[39;00m y \u001b[38;5;129;01mis\u001b[39;00m \u001b[38;5;129;01mnot\u001b[39;00m \u001b[38;5;28;01mNone\u001b[39;00m:\n\u001b[1;32m    910\u001b[0m         \u001b[38;5;28;01mif\u001b[39;00m is_integer(y) \u001b[38;5;129;01mand\u001b[39;00m \u001b[38;5;129;01mnot\u001b[39;00m data\u001b[38;5;241m.\u001b[39mcolumns\u001b[38;5;241m.\u001b[39mholds_integer():\n",
            "\u001b[0;31mValueError\u001b[0m: pie requires either y column or 'subplots=True'"
          ]
        }
      ],
      "execution_count": null,
      "block_group": "d488833c4ac44569aa8635f089014463"
    },
    {
      "cell_type": "markdown",
      "source": "",
      "metadata": {
        "formattedRanges": [],
        "deepnote_app_coordinates": {
          "h": 2,
          "w": 8,
          "x": 0,
          "y": 0
        },
        "cell_id": "e197496ae04743b7a26dfcd4fad8553e",
        "deepnote_cell_type": "text-cell-p"
      },
      "block_group": "e44b8e347bc74fe79c8a4a8003f611c0"
    },
    {
      "cell_type": "code",
      "source": "## PC\n\n#relative frequency of race for the entire dataset\n(\n    all_chunks\n        .value_counts(subset=['src_race'],normalize=True)\n        .to_frame()\n        .plot(\n            kind='barh'\n        )\n)",
      "metadata": {
        "source_hash": null,
        "execution_start": 1694634521143,
        "execution_millis": 333,
        "deepnote_app_coordinates": {
          "h": 5,
          "w": 12,
          "x": 0,
          "y": 0
        },
        "deepnote_to_be_reexecuted": true,
        "cell_id": "ccd53e89e3764edaa90bbba803df3fbd",
        "deepnote_cell_type": "code"
      },
      "outputs": [
        {
          "output_type": "execute_result",
          "execution_count": 6,
          "data": {
            "text/plain": "<AxesSubplot: ylabel='src_race'>"
          },
          "metadata": {}
        },
        {
          "data": {
            "text/plain": "<Figure size 640x480 with 1 Axes>",
            "image/png": "[encoded data removed]"
          },
          "metadata": {
            "image/png": {
              "width": 603,
              "height": 413
            }
          },
          "output_type": "display_data"
        }
      ],
      "execution_count": null,
      "block_group": "fb8a8064888644d2bf73312e6244a72b"
    },
    {
      "cell_type": "code",
      "source": "",
      "metadata": {
        "source_hash": null,
        "execution_start": 1694634521474,
        "execution_millis": 113,
        "deepnote_app_coordinates": {
          "h": 5,
          "w": 12,
          "x": 0,
          "y": 0
        },
        "deepnote_to_be_reexecuted": true,
        "cell_id": "507a4148a0ec4da39caf79500532fbe9",
        "deepnote_cell_type": "code"
      },
      "outputs": [],
      "execution_count": null,
      "block_group": "f77d4d1d12e244e38f6f9169021db961"
    },
    {
      "cell_type": "markdown",
      "source": "",
      "metadata": {
        "formattedRanges": [],
        "deepnote_app_coordinates": {
          "h": 2,
          "w": 8,
          "x": 0,
          "y": 0
        },
        "cell_id": "b846dc0d70c847e2bf0ee7168fc38c03",
        "deepnote_cell_type": "text-cell-p"
      },
      "block_group": "24ecbcecf84c46368270f064118b46d3"
    },
    {
      "cell_type": "markdown",
      "source": "## ",
      "metadata": {
        "formattedRanges": [],
        "deepnote_app_coordinates": {
          "h": 5,
          "w": 12,
          "x": 0,
          "y": 0
        },
        "cell_id": "0675012d10284adba3656290d966bf7e",
        "deepnote_cell_type": "text-cell-h2"
      },
      "block_group": "24ecbcecf84c46368270f064118b46d3"
    },
    {
      "cell_type": "markdown",
      "source": "## Analysis:  What is our best subset?",
      "metadata": {
        "formattedRanges": [],
        "deepnote_app_coordinates": {
          "h": 5,
          "w": 12,
          "x": 0,
          "y": 0
        },
        "cell_id": "48754410b44f448fbe94be68e7651e97",
        "deepnote_cell_type": "text-cell-h2"
      },
      "block_group": "6fc1dd1a6fcf4ca0bb0be1040af17b72"
    },
    {
      "cell_type": "markdown",
      "source": "The ideal data subset should meet the following criteria:",
      "metadata": {
        "formattedRanges": [],
        "deepnote_app_coordinates": {
          "h": 2,
          "w": 8,
          "x": 0,
          "y": 0
        },
        "cell_id": "6791f723f9234f0d81d776d8a975962e",
        "deepnote_cell_type": "text-cell-p"
      },
      "block_group": "1d4dee95801c492492f78dc8836f46a4"
    },
    {
      "cell_type": "markdown",
      "source": "- Represent each categorized racial group",
      "metadata": {
        "formattedRanges": [],
        "deepnote_app_coordinates": {
          "h": 2,
          "w": 8,
          "x": 0,
          "y": 0
        },
        "cell_id": "d3001829a0ab4aa0bfb3e91b56e875a4",
        "deepnote_cell_type": "text-cell-bullet"
      },
      "block_group": "565cc4122e1040b0a437bf0f76554885"
    },
    {
      "cell_type": "markdown",
      "source": "- Have subject images from each available age group",
      "metadata": {
        "formattedRanges": [],
        "deepnote_app_coordinates": {
          "h": 2,
          "w": 8,
          "x": 0,
          "y": 0
        },
        "cell_id": "5a5c16ec023e49748d20bfeccd2cbb79",
        "deepnote_cell_type": "text-cell-bullet"
      },
      "block_group": "d58b116efe94495d832f771339f0e6ac"
    },
    {
      "cell_type": "markdown",
      "source": "- Contain a near even distribution of available genders (i.e. 50/50 split)",
      "metadata": {
        "formattedRanges": [],
        "deepnote_app_coordinates": {
          "h": 2,
          "w": 8,
          "x": 0,
          "y": 0
        },
        "cell_id": "29ace761a7fe4eca90c88ac19414a8d6",
        "deepnote_cell_type": "text-cell-bullet"
      },
      "block_group": "afcbb9a478794a8c910025d982236de6"
    },
    {
      "cell_type": "markdown",
      "source": "- Take no more than 5 hours of computational time to evaluate per recognition model",
      "metadata": {
        "formattedRanges": [],
        "deepnote_app_coordinates": {
          "h": 2,
          "w": 8,
          "x": 0,
          "y": 0
        },
        "cell_id": "913c4c95fb604225b4b7df3dbe1a227f",
        "deepnote_cell_type": "text-cell-bullet"
      },
      "block_group": "31ec13496f944f03bb1916a5d4cda4b6"
    },
    {
      "cell_type": "markdown",
      "source": "Are these criteria sound?  What other criteria should we have?",
      "metadata": {
        "formattedRanges": [],
        "deepnote_app_coordinates": {
          "h": 2,
          "w": 8,
          "x": 0,
          "y": 0
        },
        "cell_id": "d8daff9b69964728a4d692d802d890b8",
        "deepnote_cell_type": "text-cell-p"
      },
      "block_group": "00f53a78e7fe4971aa84c57de060d196"
    },
    {
      "cell_type": "markdown",
      "source": "NOTE: an alternative analysis could just be doing some conditional probability a-la",
      "metadata": {
        "formattedRanges": [],
        "deepnote_app_coordinates": {
          "h": 2,
          "w": 8,
          "x": 0,
          "y": 0
        },
        "cell_id": "e35471ad73204018b6d9be42f4b1822f",
        "deepnote_cell_type": "text-cell-p"
      },
      "block_group": "ed4ecbf93ebf4595842a868128cca982"
    },
    {
      "cell_type": "markdown",
      "source": "P(Race=\"Asian\"|Age Group=\"20-29\"), P(Age Group=\"50-59\"|Gender=\"Male\")...etc.",
      "metadata": {
        "formattedRanges": [],
        "deepnote_app_coordinates": {
          "h": 2,
          "w": 8,
          "x": 0,
          "y": 0
        },
        "cell_id": "9d13941ad73e44d8aa053d4901635613",
        "deepnote_cell_type": "text-cell-p"
      },
      "block_group": "3010b61298794bed8497b43b85e1446d"
    },
    {
      "cell_type": "markdown",
      "source": "Speaking with Dr. Yarosh - the conditional probability will be sufficient for the needs of our report, as the conditional probabilities may assist us in answering questions for our STAT 5000 project.",
      "metadata": {
        "formattedRanges": [],
        "deepnote_app_coordinates": {
          "h": 2,
          "w": 8,
          "x": 0,
          "y": 0
        },
        "cell_id": "ec3c94a330984cf4b961e6604fd043d8",
        "deepnote_cell_type": "text-cell-p"
      },
      "block_group": "278ac687a9f047b88e732d3df0bf22be"
    },
    {
      "cell_type": "markdown",
      "source": "",
      "metadata": {
        "formattedRanges": [],
        "deepnote_app_coordinates": {
          "h": 2,
          "w": 8,
          "x": 0,
          "y": 0
        },
        "cell_id": "8c4e64242b43482d9f4abfbf8fbfb002",
        "deepnote_cell_type": "text-cell-p"
      },
      "block_group": "0dee0046e0ad428e9359000bb7f7bc97"
    },
    {
      "cell_type": "markdown",
      "source": "",
      "metadata": {
        "deepnote_app_coordinates": {
          "h": 5,
          "w": 12,
          "x": 0,
          "y": 0
        },
        "cell_id": "c9494d568daa42dba1fc436f464e4ea6",
        "deepnote_cell_type": "markdown"
      },
      "block_group": "f14b627e7d78419a9536003be32db30e"
    },
    {
      "cell_type": "markdown",
      "source": "## References / Citations\n\n~~We'll need to use the instructions here:  https://jupyterbook.org/en/stable/tutorials/references.html to build up our bibliography/reference table~~\nThat only works for Jupyter Books. We are just generating a single ipynb HTML file. To do references, add a `<a name=\"r5\"></a>` before the reference in the below list and to reference it, do `[(5)](#r5)`. [See here](https://stackoverflow.com/questions/5319754/cross-reference-named-anchor-in-markdown)\n\n1. <a name=\"r1\" id=\"r1\"></a>  [@inproceedings{zhifei2017cvpr,\n  title={Age Progression/Regression by Conditional Adversarial Autoencoder},\n  author={Zhang, Zhifei, Song, Yang, and Qi, Hairong},\n  booktitle={IEEE Conference on Computer Vision and Pattern Recognition (CVPR)},\n  year={2017},\n  organization={IEEE}\n}// UTKFace\n\n2. <a name=\"r2\"></a> @inproceedings{karkkainenfairface,\n  title={FairFace: Face Attribute Dataset for Balanced Race, Gender, and Age for Bias Measurement and Mitigation},\n  author={Karkkainen, Kimmo and Joo, Jungseock},\n  booktitle={Proceedings of the IEEE/CVF Winter Conference on Applications of Computer Vision},\n  year={2021},\n  pages={1548--1558}\n}// FairFace\n\n3. <a name=\"r3\"></a>  @inproceedings{serengil2020lightface,\n  title        = {LightFace: A Hybrid Deep Face Recognition Framework},\n  author       = {Serengil, Sefik Ilkin and Ozpinar, Alper},\n  booktitle    = {2020 Innovations in Intelligent Systems and Applications Conference (ASYU)},\n  pages        = {23-27},\n  year         = {2020},\n  doi          = {10.1109/ASYU50717.2020.9259802},\n  url          = {https://doi.org/10.1109/ASYU50717.2020.9259802},\n  organization = {IEEE}\n} // DeepFace\n",
      "metadata": {
        "deepnote_app_coordinates": {
          "h": 5,
          "w": 12,
          "x": 0,
          "y": 0
        },
        "cell_id": "35b7eea964de4233bcc08171a3ab99d2",
        "deepnote_cell_type": "markdown"
      },
      "block_group": "d2e42c693c6845f787482091d6d82125"
    },
    {
      "cell_type": "markdown",
      "source": "<a style='text-decoration:none;line-height:16px;display:flex;color:#5B5B62;padding:10px;justify-content:end;' href='https://deepnote.com?utm_source=created-in-deepnote-cell&projectId=6ae83024-fcbb-422f-b919-cd8e41a39100' target=\"_blank\">\n<img alt='Created in deepnote.com' style='display:inline;max-height:16px;margin:0px;margin-right:7.5px;' src='data:image/svg+xml;base64,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' > </img>\nCreated in <span style='font-weight:600;margin-left:4px;'>Deepnote</span></a>",
      "metadata": {
        "created_in_deepnote_cell": true,
        "deepnote_cell_type": "markdown"
      }
    }
  ],
  "nbformat": 4,
  "nbformat_minor": 0,
  "metadata": {
    "deepnote": {},
    "orig_nbformat": 2,
    "deepnote_app_layout": "powerful-article",
    "deepnote_full_width": true,
    "deepnote_notebook_id": "aae77c94b11c47f59bbb44c5d6fdf8a3",
    "deepnote_execution_queue": []
  }
}