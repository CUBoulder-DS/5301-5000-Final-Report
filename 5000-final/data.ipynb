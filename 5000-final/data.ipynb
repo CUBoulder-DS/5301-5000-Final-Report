{
  "cells": [
    {
      "cell_type": "raw",
      "metadata": {},
      "source": [
        "---\n",
        "format: html\n",
        "---"
      ],
      "id": "252de9eb"
    },
    {
      "cell_type": "markdown",
      "metadata": {},
      "source": [
        "# Data Exploration\n",
        "\n",
        "\n",
        "We describe the data here. Note that the default global setting for Quarto is set to NOT output the code into the rendered document, aka only including the results of any R code.\n",
        "\n",
        "**We should include a print of the head of the dataframe of our data, along with some sample images!!**\n",
        "\n",
        "<!-- {{< include _CK_data_EDA_shiny.qmd >}} -->\n",
        "\n",
        "<!-- :::{.column-screen-inset} -->\n",
        "<!-- ```{shinylive-r} -->\n",
        "\n",
        "<!-- ## file: _CK_data_EDA_shiny.qmd -->\n",
        "<!-- ``` -->\n",
        "<!-- ::: -->\n",
        "\n",
        "\n",
        "<!-- CK -->\n",
        "\n",
        "\n",
        "\n",
        "```{html}\n",
        "<iframe width=\"1000\" height=\"1000\" src=\"http://carlklein.shinyapps.io/5000-final\" title=\"Shiny App\"></iframe>\n",
        "```\n",
        "\n",
        "\n",
        "\n",
        "::: callout-note\n",
        "## From the report requirements\n",
        "\n",
        "This section should describe the data you'll be using. Answer **at least** **all** of the following questions:\n",
        "\n",
        "-   How was the data collected?\n",
        "\n",
        "-   What are the sources and influences of bias in the data?\n",
        "\n",
        "-   What are the important features (=columns) that you are using in your analysis? What do they mean?\n",
        "\n",
        "Feel free to add anything else that you think is necessary for understanding the paper and the context of the problem.\n",
        ":::"
      ],
      "id": "6d8682fc"
    }
  ],
  "metadata": {
    "kernelspec": {
      "display_name": "Python 3",
      "language": "python",
      "name": "python3"
    }
  },
  "nbformat": 4,
  "nbformat_minor": 5
}